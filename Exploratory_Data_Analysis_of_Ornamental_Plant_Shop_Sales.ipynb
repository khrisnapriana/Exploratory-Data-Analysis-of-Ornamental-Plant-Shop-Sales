{
  "nbformat": 4,
  "nbformat_minor": 0,
  "metadata": {
    "colab": {
      "provenance": []
    },
    "kernelspec": {
      "name": "python3",
      "display_name": "Python 3"
    },
    "language_info": {
      "name": "python"
    }
  },
  "cells": [
    {
      "cell_type": "markdown",
      "source": [
        "# **DATA ANALYTICS AND VISUALIZATION**\n",
        "\n",
        "**Nama : I Kadek Krisna Apriana Dwi Guna**\n",
        "\n",
        "---\n",
        "\n"
      ],
      "metadata": {
        "id": "AElcdmwVCD1k"
      }
    },
    {
      "cell_type": "markdown",
      "source": [
        "**Analisis Dataset Penjualan Toko Tanaman Hias X**\n",
        "\n",
        "1. `NO:` nomor identifikasi unik.\n",
        "\n",
        "2. `tanggal_pembelian:` tanggal pembelian tanaman hias.\n",
        "\n",
        "3. `jenis_tanaman:` jenis atau spesies tanaman hias.\n",
        "\n",
        "4. `harga_satuan:` harga satuan (harga per item) dari tanaman hias.\n",
        "\n",
        "5. `stok:` jumlah total tanaman hias yang tersedia.\n",
        "\n",
        "6. `jumlah_terjual:` jumlah tanaman hias yang terjual.\n",
        "\n",
        "7. `jumlah_pendapatan:` pendapatan yang dihasilkan dari penjualan tanaman hias.\n",
        "\n",
        "8. `cuaca:` kondisi cuaca pada hari transaksi, seperti cerah, hujan, atau mendung.\n",
        "\n"
      ],
      "metadata": {
        "id": "G-kqT1ceaUG7"
      }
    },
    {
      "cell_type": "markdown",
      "source": [
        "## **Import Library**"
      ],
      "metadata": {
        "id": "J17sCeZiCSm3"
      }
    },
    {
      "cell_type": "code",
      "execution_count": null,
      "metadata": {
        "id": "_Td3yahr6aPa"
      },
      "outputs": [],
      "source": [
        "import pandas as pd\n",
        "import matplotlib.pyplot as plt\n",
        "import seaborn as sns"
      ]
    },
    {
      "cell_type": "markdown",
      "source": [
        "> Kode program diatas merupakan kode python yang mengimpor tiga library yaitu:\n",
        "\n",
        "* `pandas`: Library digunakan untuk manipulasi dan analisis data. Pandas menyediakan struktur data dan fungsi-fungsi yang memungkinkan untuk melakukan operasi seperti membaca data dari berbagai format file, memanipulasi data, melakukan operasi agregasi, dan lain-lain.\n",
        "\n",
        "* `matplotlib.pyplot`: Library yang umum digunakan untuk visualisasi data berbagai jenis plot, seperti bar plot, line plot, scatter plot, dan lainnya.\n",
        "\n",
        "* `seaborn`: Library yang dirancang khusus untuk visualisasi data statistik. Seaborn menyediakan antarmuka yang lebih tinggi dan lebih mudah digunakan untuk menghasilkan visualisasi yang menarik dan informatif."
      ],
      "metadata": {
        "id": "RT4A-NWORrEy"
      }
    },
    {
      "cell_type": "markdown",
      "source": [
        "## **Exploratory Data Analysis (EDA)**"
      ],
      "metadata": {
        "id": "NOCMXuO1FE_u"
      }
    },
    {
      "cell_type": "markdown",
      "source": [
        "## **Import Dataset**"
      ],
      "metadata": {
        "id": "zZp6iBE_CYO7"
      }
    },
    {
      "cell_type": "code",
      "source": [
        "data = pd.read_excel('Data Penjualan Toko Tanaman Hias X - Data1.xlsx')"
      ],
      "metadata": {
        "id": "HSvzZ8yZ9oVx"
      },
      "execution_count": null,
      "outputs": []
    },
    {
      "cell_type": "markdown",
      "source": [
        "> Kode program diatas membaca file Excel dengan nama `Data Penjualan Toko Tanaman Hias X - Data1.xlsx` menggunakan fungsi `read_excel()` dari library pandas. Data dari file Excel tersebut akan dimuat ke dalam sebuah DataFrame."
      ],
      "metadata": {
        "id": "o_86TCrLSwzp"
      }
    },
    {
      "cell_type": "code",
      "source": [
        "df = data.copy()\n",
        "df"
      ],
      "metadata": {
        "colab": {
          "base_uri": "https://localhost:8080/",
          "height": 423
        },
        "id": "Yqd040nUKU6T",
        "outputId": "1442593f-65d4-4601-f43d-42cf3024d5b2"
      },
      "execution_count": null,
      "outputs": [
        {
          "output_type": "execute_result",
          "data": {
            "text/plain": [
              "      NO tanggal_pembelian jenis_tanaman  harga_satuan  stok  jumlah_terjual  \\\n",
              "0      1        2022-01-03     Kedondong            50    13               2   \n",
              "1      2        2022-01-04      Rambutan            60     5               1   \n",
              "2      3        2022-01-05         Petei            50     6               1   \n",
              "3      4        2022-01-06        Puring            20    10               1   \n",
              "4      5        2022-01-07        Kustik            30     8               1   \n",
              "..   ...               ...           ...           ...   ...             ...   \n",
              "194  195        2023-12-28    Cemaraloki            50     3               1   \n",
              "195  196        2024-01-12         Sukun           250     9               1   \n",
              "196  197        2024-02-01         Sukun           250     8               1   \n",
              "197  198        2024-02-25          Kadu           100    10               1   \n",
              "198  199        2024-03-17         Mawar            20    13               1   \n",
              "\n",
              "     jumlah_pendapatan    cuaca  \n",
              "0                  100    kabut  \n",
              "1                   60    panas  \n",
              "2                   50    panas  \n",
              "3                   20  mendung  \n",
              "4                   30    kabut  \n",
              "..                 ...      ...  \n",
              "194                 50    hujan  \n",
              "195                250  mendung  \n",
              "196                250    angin  \n",
              "197                100    badai  \n",
              "198                 20    hujan  \n",
              "\n",
              "[199 rows x 8 columns]"
            ],
            "text/html": [
              "\n",
              "  <div id=\"df-2e65a23d-51ef-415c-b9d1-12904b904f88\" class=\"colab-df-container\">\n",
              "    <div>\n",
              "<style scoped>\n",
              "    .dataframe tbody tr th:only-of-type {\n",
              "        vertical-align: middle;\n",
              "    }\n",
              "\n",
              "    .dataframe tbody tr th {\n",
              "        vertical-align: top;\n",
              "    }\n",
              "\n",
              "    .dataframe thead th {\n",
              "        text-align: right;\n",
              "    }\n",
              "</style>\n",
              "<table border=\"1\" class=\"dataframe\">\n",
              "  <thead>\n",
              "    <tr style=\"text-align: right;\">\n",
              "      <th></th>\n",
              "      <th>NO</th>\n",
              "      <th>tanggal_pembelian</th>\n",
              "      <th>jenis_tanaman</th>\n",
              "      <th>harga_satuan</th>\n",
              "      <th>stok</th>\n",
              "      <th>jumlah_terjual</th>\n",
              "      <th>jumlah_pendapatan</th>\n",
              "      <th>cuaca</th>\n",
              "    </tr>\n",
              "  </thead>\n",
              "  <tbody>\n",
              "    <tr>\n",
              "      <th>0</th>\n",
              "      <td>1</td>\n",
              "      <td>2022-01-03</td>\n",
              "      <td>Kedondong</td>\n",
              "      <td>50</td>\n",
              "      <td>13</td>\n",
              "      <td>2</td>\n",
              "      <td>100</td>\n",
              "      <td>kabut</td>\n",
              "    </tr>\n",
              "    <tr>\n",
              "      <th>1</th>\n",
              "      <td>2</td>\n",
              "      <td>2022-01-04</td>\n",
              "      <td>Rambutan</td>\n",
              "      <td>60</td>\n",
              "      <td>5</td>\n",
              "      <td>1</td>\n",
              "      <td>60</td>\n",
              "      <td>panas</td>\n",
              "    </tr>\n",
              "    <tr>\n",
              "      <th>2</th>\n",
              "      <td>3</td>\n",
              "      <td>2022-01-05</td>\n",
              "      <td>Petei</td>\n",
              "      <td>50</td>\n",
              "      <td>6</td>\n",
              "      <td>1</td>\n",
              "      <td>50</td>\n",
              "      <td>panas</td>\n",
              "    </tr>\n",
              "    <tr>\n",
              "      <th>3</th>\n",
              "      <td>4</td>\n",
              "      <td>2022-01-06</td>\n",
              "      <td>Puring</td>\n",
              "      <td>20</td>\n",
              "      <td>10</td>\n",
              "      <td>1</td>\n",
              "      <td>20</td>\n",
              "      <td>mendung</td>\n",
              "    </tr>\n",
              "    <tr>\n",
              "      <th>4</th>\n",
              "      <td>5</td>\n",
              "      <td>2022-01-07</td>\n",
              "      <td>Kustik</td>\n",
              "      <td>30</td>\n",
              "      <td>8</td>\n",
              "      <td>1</td>\n",
              "      <td>30</td>\n",
              "      <td>kabut</td>\n",
              "    </tr>\n",
              "    <tr>\n",
              "      <th>...</th>\n",
              "      <td>...</td>\n",
              "      <td>...</td>\n",
              "      <td>...</td>\n",
              "      <td>...</td>\n",
              "      <td>...</td>\n",
              "      <td>...</td>\n",
              "      <td>...</td>\n",
              "      <td>...</td>\n",
              "    </tr>\n",
              "    <tr>\n",
              "      <th>194</th>\n",
              "      <td>195</td>\n",
              "      <td>2023-12-28</td>\n",
              "      <td>Cemaraloki</td>\n",
              "      <td>50</td>\n",
              "      <td>3</td>\n",
              "      <td>1</td>\n",
              "      <td>50</td>\n",
              "      <td>hujan</td>\n",
              "    </tr>\n",
              "    <tr>\n",
              "      <th>195</th>\n",
              "      <td>196</td>\n",
              "      <td>2024-01-12</td>\n",
              "      <td>Sukun</td>\n",
              "      <td>250</td>\n",
              "      <td>9</td>\n",
              "      <td>1</td>\n",
              "      <td>250</td>\n",
              "      <td>mendung</td>\n",
              "    </tr>\n",
              "    <tr>\n",
              "      <th>196</th>\n",
              "      <td>197</td>\n",
              "      <td>2024-02-01</td>\n",
              "      <td>Sukun</td>\n",
              "      <td>250</td>\n",
              "      <td>8</td>\n",
              "      <td>1</td>\n",
              "      <td>250</td>\n",
              "      <td>angin</td>\n",
              "    </tr>\n",
              "    <tr>\n",
              "      <th>197</th>\n",
              "      <td>198</td>\n",
              "      <td>2024-02-25</td>\n",
              "      <td>Kadu</td>\n",
              "      <td>100</td>\n",
              "      <td>10</td>\n",
              "      <td>1</td>\n",
              "      <td>100</td>\n",
              "      <td>badai</td>\n",
              "    </tr>\n",
              "    <tr>\n",
              "      <th>198</th>\n",
              "      <td>199</td>\n",
              "      <td>2024-03-17</td>\n",
              "      <td>Mawar</td>\n",
              "      <td>20</td>\n",
              "      <td>13</td>\n",
              "      <td>1</td>\n",
              "      <td>20</td>\n",
              "      <td>hujan</td>\n",
              "    </tr>\n",
              "  </tbody>\n",
              "</table>\n",
              "<p>199 rows × 8 columns</p>\n",
              "</div>\n",
              "    <div class=\"colab-df-buttons\">\n",
              "\n",
              "  <div class=\"colab-df-container\">\n",
              "    <button class=\"colab-df-convert\" onclick=\"convertToInteractive('df-2e65a23d-51ef-415c-b9d1-12904b904f88')\"\n",
              "            title=\"Convert this dataframe to an interactive table.\"\n",
              "            style=\"display:none;\">\n",
              "\n",
              "  <svg xmlns=\"http://www.w3.org/2000/svg\" height=\"24px\" viewBox=\"0 -960 960 960\">\n",
              "    <path d=\"M120-120v-720h720v720H120Zm60-500h600v-160H180v160Zm220 220h160v-160H400v160Zm0 220h160v-160H400v160ZM180-400h160v-160H180v160Zm440 0h160v-160H620v160ZM180-180h160v-160H180v160Zm440 0h160v-160H620v160Z\"/>\n",
              "  </svg>\n",
              "    </button>\n",
              "\n",
              "  <style>\n",
              "    .colab-df-container {\n",
              "      display:flex;\n",
              "      gap: 12px;\n",
              "    }\n",
              "\n",
              "    .colab-df-convert {\n",
              "      background-color: #E8F0FE;\n",
              "      border: none;\n",
              "      border-radius: 50%;\n",
              "      cursor: pointer;\n",
              "      display: none;\n",
              "      fill: #1967D2;\n",
              "      height: 32px;\n",
              "      padding: 0 0 0 0;\n",
              "      width: 32px;\n",
              "    }\n",
              "\n",
              "    .colab-df-convert:hover {\n",
              "      background-color: #E2EBFA;\n",
              "      box-shadow: 0px 1px 2px rgba(60, 64, 67, 0.3), 0px 1px 3px 1px rgba(60, 64, 67, 0.15);\n",
              "      fill: #174EA6;\n",
              "    }\n",
              "\n",
              "    .colab-df-buttons div {\n",
              "      margin-bottom: 4px;\n",
              "    }\n",
              "\n",
              "    [theme=dark] .colab-df-convert {\n",
              "      background-color: #3B4455;\n",
              "      fill: #D2E3FC;\n",
              "    }\n",
              "\n",
              "    [theme=dark] .colab-df-convert:hover {\n",
              "      background-color: #434B5C;\n",
              "      box-shadow: 0px 1px 3px 1px rgba(0, 0, 0, 0.15);\n",
              "      filter: drop-shadow(0px 1px 2px rgba(0, 0, 0, 0.3));\n",
              "      fill: #FFFFFF;\n",
              "    }\n",
              "  </style>\n",
              "\n",
              "    <script>\n",
              "      const buttonEl =\n",
              "        document.querySelector('#df-2e65a23d-51ef-415c-b9d1-12904b904f88 button.colab-df-convert');\n",
              "      buttonEl.style.display =\n",
              "        google.colab.kernel.accessAllowed ? 'block' : 'none';\n",
              "\n",
              "      async function convertToInteractive(key) {\n",
              "        const element = document.querySelector('#df-2e65a23d-51ef-415c-b9d1-12904b904f88');\n",
              "        const dataTable =\n",
              "          await google.colab.kernel.invokeFunction('convertToInteractive',\n",
              "                                                    [key], {});\n",
              "        if (!dataTable) return;\n",
              "\n",
              "        const docLinkHtml = 'Like what you see? Visit the ' +\n",
              "          '<a target=\"_blank\" href=https://colab.research.google.com/notebooks/data_table.ipynb>data table notebook</a>'\n",
              "          + ' to learn more about interactive tables.';\n",
              "        element.innerHTML = '';\n",
              "        dataTable['output_type'] = 'display_data';\n",
              "        await google.colab.output.renderOutput(dataTable, element);\n",
              "        const docLink = document.createElement('div');\n",
              "        docLink.innerHTML = docLinkHtml;\n",
              "        element.appendChild(docLink);\n",
              "      }\n",
              "    </script>\n",
              "  </div>\n",
              "\n",
              "\n",
              "<div id=\"df-1da48d59-aca8-429b-9550-47e83059f415\">\n",
              "  <button class=\"colab-df-quickchart\" onclick=\"quickchart('df-1da48d59-aca8-429b-9550-47e83059f415')\"\n",
              "            title=\"Suggest charts\"\n",
              "            style=\"display:none;\">\n",
              "\n",
              "<svg xmlns=\"http://www.w3.org/2000/svg\" height=\"24px\"viewBox=\"0 0 24 24\"\n",
              "     width=\"24px\">\n",
              "    <g>\n",
              "        <path d=\"M19 3H5c-1.1 0-2 .9-2 2v14c0 1.1.9 2 2 2h14c1.1 0 2-.9 2-2V5c0-1.1-.9-2-2-2zM9 17H7v-7h2v7zm4 0h-2V7h2v10zm4 0h-2v-4h2v4z\"/>\n",
              "    </g>\n",
              "</svg>\n",
              "  </button>\n",
              "\n",
              "<style>\n",
              "  .colab-df-quickchart {\n",
              "      --bg-color: #E8F0FE;\n",
              "      --fill-color: #1967D2;\n",
              "      --hover-bg-color: #E2EBFA;\n",
              "      --hover-fill-color: #174EA6;\n",
              "      --disabled-fill-color: #AAA;\n",
              "      --disabled-bg-color: #DDD;\n",
              "  }\n",
              "\n",
              "  [theme=dark] .colab-df-quickchart {\n",
              "      --bg-color: #3B4455;\n",
              "      --fill-color: #D2E3FC;\n",
              "      --hover-bg-color: #434B5C;\n",
              "      --hover-fill-color: #FFFFFF;\n",
              "      --disabled-bg-color: #3B4455;\n",
              "      --disabled-fill-color: #666;\n",
              "  }\n",
              "\n",
              "  .colab-df-quickchart {\n",
              "    background-color: var(--bg-color);\n",
              "    border: none;\n",
              "    border-radius: 50%;\n",
              "    cursor: pointer;\n",
              "    display: none;\n",
              "    fill: var(--fill-color);\n",
              "    height: 32px;\n",
              "    padding: 0;\n",
              "    width: 32px;\n",
              "  }\n",
              "\n",
              "  .colab-df-quickchart:hover {\n",
              "    background-color: var(--hover-bg-color);\n",
              "    box-shadow: 0 1px 2px rgba(60, 64, 67, 0.3), 0 1px 3px 1px rgba(60, 64, 67, 0.15);\n",
              "    fill: var(--button-hover-fill-color);\n",
              "  }\n",
              "\n",
              "  .colab-df-quickchart-complete:disabled,\n",
              "  .colab-df-quickchart-complete:disabled:hover {\n",
              "    background-color: var(--disabled-bg-color);\n",
              "    fill: var(--disabled-fill-color);\n",
              "    box-shadow: none;\n",
              "  }\n",
              "\n",
              "  .colab-df-spinner {\n",
              "    border: 2px solid var(--fill-color);\n",
              "    border-color: transparent;\n",
              "    border-bottom-color: var(--fill-color);\n",
              "    animation:\n",
              "      spin 1s steps(1) infinite;\n",
              "  }\n",
              "\n",
              "  @keyframes spin {\n",
              "    0% {\n",
              "      border-color: transparent;\n",
              "      border-bottom-color: var(--fill-color);\n",
              "      border-left-color: var(--fill-color);\n",
              "    }\n",
              "    20% {\n",
              "      border-color: transparent;\n",
              "      border-left-color: var(--fill-color);\n",
              "      border-top-color: var(--fill-color);\n",
              "    }\n",
              "    30% {\n",
              "      border-color: transparent;\n",
              "      border-left-color: var(--fill-color);\n",
              "      border-top-color: var(--fill-color);\n",
              "      border-right-color: var(--fill-color);\n",
              "    }\n",
              "    40% {\n",
              "      border-color: transparent;\n",
              "      border-right-color: var(--fill-color);\n",
              "      border-top-color: var(--fill-color);\n",
              "    }\n",
              "    60% {\n",
              "      border-color: transparent;\n",
              "      border-right-color: var(--fill-color);\n",
              "    }\n",
              "    80% {\n",
              "      border-color: transparent;\n",
              "      border-right-color: var(--fill-color);\n",
              "      border-bottom-color: var(--fill-color);\n",
              "    }\n",
              "    90% {\n",
              "      border-color: transparent;\n",
              "      border-bottom-color: var(--fill-color);\n",
              "    }\n",
              "  }\n",
              "</style>\n",
              "\n",
              "  <script>\n",
              "    async function quickchart(key) {\n",
              "      const quickchartButtonEl =\n",
              "        document.querySelector('#' + key + ' button');\n",
              "      quickchartButtonEl.disabled = true;  // To prevent multiple clicks.\n",
              "      quickchartButtonEl.classList.add('colab-df-spinner');\n",
              "      try {\n",
              "        const charts = await google.colab.kernel.invokeFunction(\n",
              "            'suggestCharts', [key], {});\n",
              "      } catch (error) {\n",
              "        console.error('Error during call to suggestCharts:', error);\n",
              "      }\n",
              "      quickchartButtonEl.classList.remove('colab-df-spinner');\n",
              "      quickchartButtonEl.classList.add('colab-df-quickchart-complete');\n",
              "    }\n",
              "    (() => {\n",
              "      let quickchartButtonEl =\n",
              "        document.querySelector('#df-1da48d59-aca8-429b-9550-47e83059f415 button');\n",
              "      quickchartButtonEl.style.display =\n",
              "        google.colab.kernel.accessAllowed ? 'block' : 'none';\n",
              "    })();\n",
              "  </script>\n",
              "</div>\n",
              "    </div>\n",
              "  </div>\n"
            ],
            "application/vnd.google.colaboratory.intrinsic+json": {
              "type": "dataframe",
              "variable_name": "df",
              "summary": "{\n  \"name\": \"df\",\n  \"rows\": 199,\n  \"fields\": [\n    {\n      \"column\": \"NO\",\n      \"properties\": {\n        \"dtype\": \"number\",\n        \"std\": 57,\n        \"min\": 1,\n        \"max\": 199,\n        \"num_unique_values\": 199,\n        \"samples\": [\n          83,\n          16,\n          112\n        ],\n        \"semantic_type\": \"\",\n        \"description\": \"\"\n      }\n    },\n    {\n      \"column\": \"tanggal_pembelian\",\n      \"properties\": {\n        \"dtype\": \"date\",\n        \"min\": \"2022-01-03 00:00:00\",\n        \"max\": \"2024-03-17 00:00:00\",\n        \"num_unique_values\": 196,\n        \"samples\": [\n          \"2023-06-22 00:00:00\",\n          \"2023-03-22 00:00:00\",\n          \"2022-03-21 00:00:00\"\n        ],\n        \"semantic_type\": \"\",\n        \"description\": \"\"\n      }\n    },\n    {\n      \"column\": \"jenis_tanaman\",\n      \"properties\": {\n        \"dtype\": \"category\",\n        \"num_unique_values\": 33,\n        \"samples\": [\n          \"Pucuk Merah\",\n          \"Cereme\",\n          \"Bidara \"\n        ],\n        \"semantic_type\": \"\",\n        \"description\": \"\"\n      }\n    },\n    {\n      \"column\": \"harga_satuan\",\n      \"properties\": {\n        \"dtype\": \"number\",\n        \"std\": 59,\n        \"min\": 20,\n        \"max\": 250,\n        \"num_unique_values\": 11,\n        \"samples\": [\n          80,\n          50,\n          200\n        ],\n        \"semantic_type\": \"\",\n        \"description\": \"\"\n      }\n    },\n    {\n      \"column\": \"stok\",\n      \"properties\": {\n        \"dtype\": \"number\",\n        \"std\": 4,\n        \"min\": 1,\n        \"max\": 23,\n        \"num_unique_values\": 21,\n        \"samples\": [\n          13,\n          19,\n          23\n        ],\n        \"semantic_type\": \"\",\n        \"description\": \"\"\n      }\n    },\n    {\n      \"column\": \"jumlah_terjual\",\n      \"properties\": {\n        \"dtype\": \"number\",\n        \"std\": 0,\n        \"min\": 1,\n        \"max\": 5,\n        \"num_unique_values\": 5,\n        \"samples\": [\n          1,\n          5,\n          3\n        ],\n        \"semantic_type\": \"\",\n        \"description\": \"\"\n      }\n    },\n    {\n      \"column\": \"jumlah_pendapatan\",\n      \"properties\": {\n        \"dtype\": \"number\",\n        \"std\": 83,\n        \"min\": 20,\n        \"max\": 500,\n        \"num_unique_values\": 18,\n        \"samples\": [\n          100,\n          60,\n          125\n        ],\n        \"semantic_type\": \"\",\n        \"description\": \"\"\n      }\n    },\n    {\n      \"column\": \"cuaca\",\n      \"properties\": {\n        \"dtype\": \"category\",\n        \"num_unique_values\": 7,\n        \"samples\": [\n          \"kabut\",\n          \"panas\",\n          \"badai\"\n        ],\n        \"semantic_type\": \"\",\n        \"description\": \"\"\n      }\n    }\n  ]\n}"
            }
          },
          "metadata": {},
          "execution_count": 3
        }
      ]
    },
    {
      "cell_type": "markdown",
      "source": [
        "> Kode program diatas berfungsi untuk membuat salinan dari DataFrame sebelumnya dan menyimpannya dalam variabel `df`. Pemanggilan metode `copy()` pada DataFrame data digunakan untuk membuat salinan yang independen dari DataFrame asli. Dengan cara ini, jika terjadi manipulasi atau perubahan pada DataFrame `df`, DataFrame data tidak akan terpengaruh, dan begitu juga sebaliknya."
      ],
      "metadata": {
        "id": "DbaHwGmoTMCF"
      }
    },
    {
      "cell_type": "markdown",
      "source": [
        "### **Data Preparation & Cleaning**"
      ],
      "metadata": {
        "id": "9WlypfWRG-Fv"
      }
    },
    {
      "cell_type": "code",
      "source": [
        "df.columns"
      ],
      "metadata": {
        "colab": {
          "base_uri": "https://localhost:8080/"
        },
        "id": "v8RLh52tByI-",
        "outputId": "1f67f9a9-ae5d-4956-db82-2f078e47cb19"
      },
      "execution_count": null,
      "outputs": [
        {
          "output_type": "execute_result",
          "data": {
            "text/plain": [
              "Index(['NO', 'tanggal_pembelian', 'jenis_tanaman', 'harga_satuan', 'stok',\n",
              "       'jumlah_terjual', 'jumlah_pendapatan', 'cuaca'],\n",
              "      dtype='object')"
            ]
          },
          "metadata": {},
          "execution_count": 4
        }
      ]
    },
    {
      "cell_type": "markdown",
      "source": [
        "> Kode program diatas digunakan untuk mengakses atribut `columns` dari DataFrame yang disalin sebelumnya ke variabel `df`. Atribut `columns` pada DataFrame berisi daftar nama kolom. Ini berguna untuk mengetahui struktur dari DataFrame tersebut dan untuk melakukan manipulasi data, seperti mengambil kolom tertentu, mengubah nama kolom, atau melakukan operasi lainnya yang melibatkan nama kolom."
      ],
      "metadata": {
        "id": "vZoyDVeCT1D4"
      }
    },
    {
      "cell_type": "code",
      "source": [
        "df.drop('NO', inplace=True, axis=1)\n",
        "df"
      ],
      "metadata": {
        "colab": {
          "base_uri": "https://localhost:8080/",
          "height": 423
        },
        "id": "_6GbYjayB3UR",
        "outputId": "4efa0728-c86f-42e8-e55e-63952229a99e"
      },
      "execution_count": null,
      "outputs": [
        {
          "output_type": "execute_result",
          "data": {
            "text/plain": [
              "    tanggal_pembelian jenis_tanaman  harga_satuan  stok  jumlah_terjual  \\\n",
              "0          2022-01-03     Kedondong            50    13               2   \n",
              "1          2022-01-04      Rambutan            60     5               1   \n",
              "2          2022-01-05         Petei            50     6               1   \n",
              "3          2022-01-06        Puring            20    10               1   \n",
              "4          2022-01-07        Kustik            30     8               1   \n",
              "..                ...           ...           ...   ...             ...   \n",
              "194        2023-12-28    Cemaraloki            50     3               1   \n",
              "195        2024-01-12         Sukun           250     9               1   \n",
              "196        2024-02-01         Sukun           250     8               1   \n",
              "197        2024-02-25          Kadu           100    10               1   \n",
              "198        2024-03-17         Mawar            20    13               1   \n",
              "\n",
              "     jumlah_pendapatan    cuaca  \n",
              "0                  100    kabut  \n",
              "1                   60    panas  \n",
              "2                   50    panas  \n",
              "3                   20  mendung  \n",
              "4                   30    kabut  \n",
              "..                 ...      ...  \n",
              "194                 50    hujan  \n",
              "195                250  mendung  \n",
              "196                250    angin  \n",
              "197                100    badai  \n",
              "198                 20    hujan  \n",
              "\n",
              "[199 rows x 7 columns]"
            ],
            "text/html": [
              "\n",
              "  <div id=\"df-b627a763-e4f5-4e2a-a775-adea1d25d8af\" class=\"colab-df-container\">\n",
              "    <div>\n",
              "<style scoped>\n",
              "    .dataframe tbody tr th:only-of-type {\n",
              "        vertical-align: middle;\n",
              "    }\n",
              "\n",
              "    .dataframe tbody tr th {\n",
              "        vertical-align: top;\n",
              "    }\n",
              "\n",
              "    .dataframe thead th {\n",
              "        text-align: right;\n",
              "    }\n",
              "</style>\n",
              "<table border=\"1\" class=\"dataframe\">\n",
              "  <thead>\n",
              "    <tr style=\"text-align: right;\">\n",
              "      <th></th>\n",
              "      <th>tanggal_pembelian</th>\n",
              "      <th>jenis_tanaman</th>\n",
              "      <th>harga_satuan</th>\n",
              "      <th>stok</th>\n",
              "      <th>jumlah_terjual</th>\n",
              "      <th>jumlah_pendapatan</th>\n",
              "      <th>cuaca</th>\n",
              "    </tr>\n",
              "  </thead>\n",
              "  <tbody>\n",
              "    <tr>\n",
              "      <th>0</th>\n",
              "      <td>2022-01-03</td>\n",
              "      <td>Kedondong</td>\n",
              "      <td>50</td>\n",
              "      <td>13</td>\n",
              "      <td>2</td>\n",
              "      <td>100</td>\n",
              "      <td>kabut</td>\n",
              "    </tr>\n",
              "    <tr>\n",
              "      <th>1</th>\n",
              "      <td>2022-01-04</td>\n",
              "      <td>Rambutan</td>\n",
              "      <td>60</td>\n",
              "      <td>5</td>\n",
              "      <td>1</td>\n",
              "      <td>60</td>\n",
              "      <td>panas</td>\n",
              "    </tr>\n",
              "    <tr>\n",
              "      <th>2</th>\n",
              "      <td>2022-01-05</td>\n",
              "      <td>Petei</td>\n",
              "      <td>50</td>\n",
              "      <td>6</td>\n",
              "      <td>1</td>\n",
              "      <td>50</td>\n",
              "      <td>panas</td>\n",
              "    </tr>\n",
              "    <tr>\n",
              "      <th>3</th>\n",
              "      <td>2022-01-06</td>\n",
              "      <td>Puring</td>\n",
              "      <td>20</td>\n",
              "      <td>10</td>\n",
              "      <td>1</td>\n",
              "      <td>20</td>\n",
              "      <td>mendung</td>\n",
              "    </tr>\n",
              "    <tr>\n",
              "      <th>4</th>\n",
              "      <td>2022-01-07</td>\n",
              "      <td>Kustik</td>\n",
              "      <td>30</td>\n",
              "      <td>8</td>\n",
              "      <td>1</td>\n",
              "      <td>30</td>\n",
              "      <td>kabut</td>\n",
              "    </tr>\n",
              "    <tr>\n",
              "      <th>...</th>\n",
              "      <td>...</td>\n",
              "      <td>...</td>\n",
              "      <td>...</td>\n",
              "      <td>...</td>\n",
              "      <td>...</td>\n",
              "      <td>...</td>\n",
              "      <td>...</td>\n",
              "    </tr>\n",
              "    <tr>\n",
              "      <th>194</th>\n",
              "      <td>2023-12-28</td>\n",
              "      <td>Cemaraloki</td>\n",
              "      <td>50</td>\n",
              "      <td>3</td>\n",
              "      <td>1</td>\n",
              "      <td>50</td>\n",
              "      <td>hujan</td>\n",
              "    </tr>\n",
              "    <tr>\n",
              "      <th>195</th>\n",
              "      <td>2024-01-12</td>\n",
              "      <td>Sukun</td>\n",
              "      <td>250</td>\n",
              "      <td>9</td>\n",
              "      <td>1</td>\n",
              "      <td>250</td>\n",
              "      <td>mendung</td>\n",
              "    </tr>\n",
              "    <tr>\n",
              "      <th>196</th>\n",
              "      <td>2024-02-01</td>\n",
              "      <td>Sukun</td>\n",
              "      <td>250</td>\n",
              "      <td>8</td>\n",
              "      <td>1</td>\n",
              "      <td>250</td>\n",
              "      <td>angin</td>\n",
              "    </tr>\n",
              "    <tr>\n",
              "      <th>197</th>\n",
              "      <td>2024-02-25</td>\n",
              "      <td>Kadu</td>\n",
              "      <td>100</td>\n",
              "      <td>10</td>\n",
              "      <td>1</td>\n",
              "      <td>100</td>\n",
              "      <td>badai</td>\n",
              "    </tr>\n",
              "    <tr>\n",
              "      <th>198</th>\n",
              "      <td>2024-03-17</td>\n",
              "      <td>Mawar</td>\n",
              "      <td>20</td>\n",
              "      <td>13</td>\n",
              "      <td>1</td>\n",
              "      <td>20</td>\n",
              "      <td>hujan</td>\n",
              "    </tr>\n",
              "  </tbody>\n",
              "</table>\n",
              "<p>199 rows × 7 columns</p>\n",
              "</div>\n",
              "    <div class=\"colab-df-buttons\">\n",
              "\n",
              "  <div class=\"colab-df-container\">\n",
              "    <button class=\"colab-df-convert\" onclick=\"convertToInteractive('df-b627a763-e4f5-4e2a-a775-adea1d25d8af')\"\n",
              "            title=\"Convert this dataframe to an interactive table.\"\n",
              "            style=\"display:none;\">\n",
              "\n",
              "  <svg xmlns=\"http://www.w3.org/2000/svg\" height=\"24px\" viewBox=\"0 -960 960 960\">\n",
              "    <path d=\"M120-120v-720h720v720H120Zm60-500h600v-160H180v160Zm220 220h160v-160H400v160Zm0 220h160v-160H400v160ZM180-400h160v-160H180v160Zm440 0h160v-160H620v160ZM180-180h160v-160H180v160Zm440 0h160v-160H620v160Z\"/>\n",
              "  </svg>\n",
              "    </button>\n",
              "\n",
              "  <style>\n",
              "    .colab-df-container {\n",
              "      display:flex;\n",
              "      gap: 12px;\n",
              "    }\n",
              "\n",
              "    .colab-df-convert {\n",
              "      background-color: #E8F0FE;\n",
              "      border: none;\n",
              "      border-radius: 50%;\n",
              "      cursor: pointer;\n",
              "      display: none;\n",
              "      fill: #1967D2;\n",
              "      height: 32px;\n",
              "      padding: 0 0 0 0;\n",
              "      width: 32px;\n",
              "    }\n",
              "\n",
              "    .colab-df-convert:hover {\n",
              "      background-color: #E2EBFA;\n",
              "      box-shadow: 0px 1px 2px rgba(60, 64, 67, 0.3), 0px 1px 3px 1px rgba(60, 64, 67, 0.15);\n",
              "      fill: #174EA6;\n",
              "    }\n",
              "\n",
              "    .colab-df-buttons div {\n",
              "      margin-bottom: 4px;\n",
              "    }\n",
              "\n",
              "    [theme=dark] .colab-df-convert {\n",
              "      background-color: #3B4455;\n",
              "      fill: #D2E3FC;\n",
              "    }\n",
              "\n",
              "    [theme=dark] .colab-df-convert:hover {\n",
              "      background-color: #434B5C;\n",
              "      box-shadow: 0px 1px 3px 1px rgba(0, 0, 0, 0.15);\n",
              "      filter: drop-shadow(0px 1px 2px rgba(0, 0, 0, 0.3));\n",
              "      fill: #FFFFFF;\n",
              "    }\n",
              "  </style>\n",
              "\n",
              "    <script>\n",
              "      const buttonEl =\n",
              "        document.querySelector('#df-b627a763-e4f5-4e2a-a775-adea1d25d8af button.colab-df-convert');\n",
              "      buttonEl.style.display =\n",
              "        google.colab.kernel.accessAllowed ? 'block' : 'none';\n",
              "\n",
              "      async function convertToInteractive(key) {\n",
              "        const element = document.querySelector('#df-b627a763-e4f5-4e2a-a775-adea1d25d8af');\n",
              "        const dataTable =\n",
              "          await google.colab.kernel.invokeFunction('convertToInteractive',\n",
              "                                                    [key], {});\n",
              "        if (!dataTable) return;\n",
              "\n",
              "        const docLinkHtml = 'Like what you see? Visit the ' +\n",
              "          '<a target=\"_blank\" href=https://colab.research.google.com/notebooks/data_table.ipynb>data table notebook</a>'\n",
              "          + ' to learn more about interactive tables.';\n",
              "        element.innerHTML = '';\n",
              "        dataTable['output_type'] = 'display_data';\n",
              "        await google.colab.output.renderOutput(dataTable, element);\n",
              "        const docLink = document.createElement('div');\n",
              "        docLink.innerHTML = docLinkHtml;\n",
              "        element.appendChild(docLink);\n",
              "      }\n",
              "    </script>\n",
              "  </div>\n",
              "\n",
              "\n",
              "<div id=\"df-da4742a9-425b-483c-aced-2cfef1765f25\">\n",
              "  <button class=\"colab-df-quickchart\" onclick=\"quickchart('df-da4742a9-425b-483c-aced-2cfef1765f25')\"\n",
              "            title=\"Suggest charts\"\n",
              "            style=\"display:none;\">\n",
              "\n",
              "<svg xmlns=\"http://www.w3.org/2000/svg\" height=\"24px\"viewBox=\"0 0 24 24\"\n",
              "     width=\"24px\">\n",
              "    <g>\n",
              "        <path d=\"M19 3H5c-1.1 0-2 .9-2 2v14c0 1.1.9 2 2 2h14c1.1 0 2-.9 2-2V5c0-1.1-.9-2-2-2zM9 17H7v-7h2v7zm4 0h-2V7h2v10zm4 0h-2v-4h2v4z\"/>\n",
              "    </g>\n",
              "</svg>\n",
              "  </button>\n",
              "\n",
              "<style>\n",
              "  .colab-df-quickchart {\n",
              "      --bg-color: #E8F0FE;\n",
              "      --fill-color: #1967D2;\n",
              "      --hover-bg-color: #E2EBFA;\n",
              "      --hover-fill-color: #174EA6;\n",
              "      --disabled-fill-color: #AAA;\n",
              "      --disabled-bg-color: #DDD;\n",
              "  }\n",
              "\n",
              "  [theme=dark] .colab-df-quickchart {\n",
              "      --bg-color: #3B4455;\n",
              "      --fill-color: #D2E3FC;\n",
              "      --hover-bg-color: #434B5C;\n",
              "      --hover-fill-color: #FFFFFF;\n",
              "      --disabled-bg-color: #3B4455;\n",
              "      --disabled-fill-color: #666;\n",
              "  }\n",
              "\n",
              "  .colab-df-quickchart {\n",
              "    background-color: var(--bg-color);\n",
              "    border: none;\n",
              "    border-radius: 50%;\n",
              "    cursor: pointer;\n",
              "    display: none;\n",
              "    fill: var(--fill-color);\n",
              "    height: 32px;\n",
              "    padding: 0;\n",
              "    width: 32px;\n",
              "  }\n",
              "\n",
              "  .colab-df-quickchart:hover {\n",
              "    background-color: var(--hover-bg-color);\n",
              "    box-shadow: 0 1px 2px rgba(60, 64, 67, 0.3), 0 1px 3px 1px rgba(60, 64, 67, 0.15);\n",
              "    fill: var(--button-hover-fill-color);\n",
              "  }\n",
              "\n",
              "  .colab-df-quickchart-complete:disabled,\n",
              "  .colab-df-quickchart-complete:disabled:hover {\n",
              "    background-color: var(--disabled-bg-color);\n",
              "    fill: var(--disabled-fill-color);\n",
              "    box-shadow: none;\n",
              "  }\n",
              "\n",
              "  .colab-df-spinner {\n",
              "    border: 2px solid var(--fill-color);\n",
              "    border-color: transparent;\n",
              "    border-bottom-color: var(--fill-color);\n",
              "    animation:\n",
              "      spin 1s steps(1) infinite;\n",
              "  }\n",
              "\n",
              "  @keyframes spin {\n",
              "    0% {\n",
              "      border-color: transparent;\n",
              "      border-bottom-color: var(--fill-color);\n",
              "      border-left-color: var(--fill-color);\n",
              "    }\n",
              "    20% {\n",
              "      border-color: transparent;\n",
              "      border-left-color: var(--fill-color);\n",
              "      border-top-color: var(--fill-color);\n",
              "    }\n",
              "    30% {\n",
              "      border-color: transparent;\n",
              "      border-left-color: var(--fill-color);\n",
              "      border-top-color: var(--fill-color);\n",
              "      border-right-color: var(--fill-color);\n",
              "    }\n",
              "    40% {\n",
              "      border-color: transparent;\n",
              "      border-right-color: var(--fill-color);\n",
              "      border-top-color: var(--fill-color);\n",
              "    }\n",
              "    60% {\n",
              "      border-color: transparent;\n",
              "      border-right-color: var(--fill-color);\n",
              "    }\n",
              "    80% {\n",
              "      border-color: transparent;\n",
              "      border-right-color: var(--fill-color);\n",
              "      border-bottom-color: var(--fill-color);\n",
              "    }\n",
              "    90% {\n",
              "      border-color: transparent;\n",
              "      border-bottom-color: var(--fill-color);\n",
              "    }\n",
              "  }\n",
              "</style>\n",
              "\n",
              "  <script>\n",
              "    async function quickchart(key) {\n",
              "      const quickchartButtonEl =\n",
              "        document.querySelector('#' + key + ' button');\n",
              "      quickchartButtonEl.disabled = true;  // To prevent multiple clicks.\n",
              "      quickchartButtonEl.classList.add('colab-df-spinner');\n",
              "      try {\n",
              "        const charts = await google.colab.kernel.invokeFunction(\n",
              "            'suggestCharts', [key], {});\n",
              "      } catch (error) {\n",
              "        console.error('Error during call to suggestCharts:', error);\n",
              "      }\n",
              "      quickchartButtonEl.classList.remove('colab-df-spinner');\n",
              "      quickchartButtonEl.classList.add('colab-df-quickchart-complete');\n",
              "    }\n",
              "    (() => {\n",
              "      let quickchartButtonEl =\n",
              "        document.querySelector('#df-da4742a9-425b-483c-aced-2cfef1765f25 button');\n",
              "      quickchartButtonEl.style.display =\n",
              "        google.colab.kernel.accessAllowed ? 'block' : 'none';\n",
              "    })();\n",
              "  </script>\n",
              "</div>\n",
              "    </div>\n",
              "  </div>\n"
            ],
            "application/vnd.google.colaboratory.intrinsic+json": {
              "type": "dataframe",
              "variable_name": "df",
              "summary": "{\n  \"name\": \"df\",\n  \"rows\": 199,\n  \"fields\": [\n    {\n      \"column\": \"tanggal_pembelian\",\n      \"properties\": {\n        \"dtype\": \"date\",\n        \"min\": \"2022-01-03 00:00:00\",\n        \"max\": \"2024-03-17 00:00:00\",\n        \"num_unique_values\": 196,\n        \"samples\": [\n          \"2023-06-22 00:00:00\",\n          \"2023-03-22 00:00:00\",\n          \"2022-03-21 00:00:00\"\n        ],\n        \"semantic_type\": \"\",\n        \"description\": \"\"\n      }\n    },\n    {\n      \"column\": \"jenis_tanaman\",\n      \"properties\": {\n        \"dtype\": \"category\",\n        \"num_unique_values\": 33,\n        \"samples\": [\n          \"Pucuk Merah\",\n          \"Cereme\",\n          \"Bidara \"\n        ],\n        \"semantic_type\": \"\",\n        \"description\": \"\"\n      }\n    },\n    {\n      \"column\": \"harga_satuan\",\n      \"properties\": {\n        \"dtype\": \"number\",\n        \"std\": 59,\n        \"min\": 20,\n        \"max\": 250,\n        \"num_unique_values\": 11,\n        \"samples\": [\n          80,\n          50,\n          200\n        ],\n        \"semantic_type\": \"\",\n        \"description\": \"\"\n      }\n    },\n    {\n      \"column\": \"stok\",\n      \"properties\": {\n        \"dtype\": \"number\",\n        \"std\": 4,\n        \"min\": 1,\n        \"max\": 23,\n        \"num_unique_values\": 21,\n        \"samples\": [\n          13,\n          19,\n          23\n        ],\n        \"semantic_type\": \"\",\n        \"description\": \"\"\n      }\n    },\n    {\n      \"column\": \"jumlah_terjual\",\n      \"properties\": {\n        \"dtype\": \"number\",\n        \"std\": 0,\n        \"min\": 1,\n        \"max\": 5,\n        \"num_unique_values\": 5,\n        \"samples\": [\n          1,\n          5,\n          3\n        ],\n        \"semantic_type\": \"\",\n        \"description\": \"\"\n      }\n    },\n    {\n      \"column\": \"jumlah_pendapatan\",\n      \"properties\": {\n        \"dtype\": \"number\",\n        \"std\": 83,\n        \"min\": 20,\n        \"max\": 500,\n        \"num_unique_values\": 18,\n        \"samples\": [\n          100,\n          60,\n          125\n        ],\n        \"semantic_type\": \"\",\n        \"description\": \"\"\n      }\n    },\n    {\n      \"column\": \"cuaca\",\n      \"properties\": {\n        \"dtype\": \"category\",\n        \"num_unique_values\": 7,\n        \"samples\": [\n          \"kabut\",\n          \"panas\",\n          \"badai\"\n        ],\n        \"semantic_type\": \"\",\n        \"description\": \"\"\n      }\n    }\n  ]\n}"
            }
          },
          "metadata": {},
          "execution_count": 5
        }
      ]
    },
    {
      "cell_type": "markdown",
      "source": [
        "> Kode program diatas digunakan untuk menghapus kolom dengan nama `NO` dari DataFrame `df`."
      ],
      "metadata": {
        "id": "p_FifAJMVZN5"
      }
    },
    {
      "cell_type": "code",
      "source": [
        "df.shape"
      ],
      "metadata": {
        "colab": {
          "base_uri": "https://localhost:8080/"
        },
        "id": "efQM3OwKFyYe",
        "outputId": "733fd954-7435-426d-d4ce-69c5029848da"
      },
      "execution_count": null,
      "outputs": [
        {
          "output_type": "execute_result",
          "data": {
            "text/plain": [
              "(199, 7)"
            ]
          },
          "metadata": {},
          "execution_count": 6
        }
      ]
    },
    {
      "cell_type": "markdown",
      "source": [
        "> Kode program diatas digunakan untuk mengecek jumlah baris dan kolom pada DataFrame `df`."
      ],
      "metadata": {
        "id": "_tIVorBDVuvA"
      }
    },
    {
      "cell_type": "code",
      "source": [
        "df.info()"
      ],
      "metadata": {
        "colab": {
          "base_uri": "https://localhost:8080/"
        },
        "id": "-WzIca7rB69G",
        "outputId": "d6fd2840-1302-4710-dc57-a3ba2decbf72"
      },
      "execution_count": null,
      "outputs": [
        {
          "output_type": "stream",
          "name": "stdout",
          "text": [
            "<class 'pandas.core.frame.DataFrame'>\n",
            "RangeIndex: 199 entries, 0 to 198\n",
            "Data columns (total 7 columns):\n",
            " #   Column             Non-Null Count  Dtype         \n",
            "---  ------             --------------  -----         \n",
            " 0   tanggal_pembelian  199 non-null    datetime64[ns]\n",
            " 1   jenis_tanaman      199 non-null    object        \n",
            " 2   harga_satuan       199 non-null    int64         \n",
            " 3   stok               199 non-null    int64         \n",
            " 4   jumlah_terjual     199 non-null    int64         \n",
            " 5   jumlah_pendapatan  199 non-null    int64         \n",
            " 6   cuaca              199 non-null    object        \n",
            "dtypes: datetime64[ns](1), int64(4), object(2)\n",
            "memory usage: 11.0+ KB\n"
          ]
        }
      ]
    },
    {
      "cell_type": "markdown",
      "source": [
        "> Kode program diatas digunakan untuk melihat informasi detail pada DataFrame `df` seperti nama kolom, jumlah non-null value, dan tipe datanya."
      ],
      "metadata": {
        "id": "jWfvfADNVwjw"
      }
    },
    {
      "cell_type": "code",
      "source": [
        "df.isna().sum()"
      ],
      "metadata": {
        "colab": {
          "base_uri": "https://localhost:8080/"
        },
        "id": "-b22yLEcCA03",
        "outputId": "016d60d6-5759-4600-def9-2b03a02fe875"
      },
      "execution_count": null,
      "outputs": [
        {
          "output_type": "execute_result",
          "data": {
            "text/plain": [
              "tanggal_pembelian    0\n",
              "jenis_tanaman        0\n",
              "harga_satuan         0\n",
              "stok                 0\n",
              "jumlah_terjual       0\n",
              "jumlah_pendapatan    0\n",
              "cuaca                0\n",
              "dtype: int64"
            ]
          },
          "metadata": {},
          "execution_count": 8
        }
      ]
    },
    {
      "cell_type": "markdown",
      "source": [
        "> Kode program diatas digunakan untuk melihat nilai null pada tiap kolom pada DataFrame `df` dan hasilnya tidak ada karena dataset sudah bersih dari nilai null."
      ],
      "metadata": {
        "id": "_knEwDCQWJst"
      }
    },
    {
      "cell_type": "code",
      "source": [
        "df.drop_duplicates(inplace=True)\n",
        "\n",
        "df"
      ],
      "metadata": {
        "colab": {
          "base_uri": "https://localhost:8080/",
          "height": 423
        },
        "id": "fLxXKH-sFZGR",
        "outputId": "4b8808d5-fab0-404b-e8fc-c13ff282b26a"
      },
      "execution_count": null,
      "outputs": [
        {
          "output_type": "execute_result",
          "data": {
            "text/plain": [
              "    tanggal_pembelian jenis_tanaman  harga_satuan  stok  jumlah_terjual  \\\n",
              "0          2022-01-03     Kedondong            50    13               2   \n",
              "1          2022-01-04      Rambutan            60     5               1   \n",
              "2          2022-01-05         Petei            50     6               1   \n",
              "3          2022-01-06        Puring            20    10               1   \n",
              "4          2022-01-07        Kustik            30     8               1   \n",
              "..                ...           ...           ...   ...             ...   \n",
              "194        2023-12-28    Cemaraloki            50     3               1   \n",
              "195        2024-01-12         Sukun           250     9               1   \n",
              "196        2024-02-01         Sukun           250     8               1   \n",
              "197        2024-02-25          Kadu           100    10               1   \n",
              "198        2024-03-17         Mawar            20    13               1   \n",
              "\n",
              "     jumlah_pendapatan    cuaca  \n",
              "0                  100    kabut  \n",
              "1                   60    panas  \n",
              "2                   50    panas  \n",
              "3                   20  mendung  \n",
              "4                   30    kabut  \n",
              "..                 ...      ...  \n",
              "194                 50    hujan  \n",
              "195                250  mendung  \n",
              "196                250    angin  \n",
              "197                100    badai  \n",
              "198                 20    hujan  \n",
              "\n",
              "[199 rows x 7 columns]"
            ],
            "text/html": [
              "\n",
              "  <div id=\"df-8e71f47b-68b3-4cbf-8e6b-e73154d669fe\" class=\"colab-df-container\">\n",
              "    <div>\n",
              "<style scoped>\n",
              "    .dataframe tbody tr th:only-of-type {\n",
              "        vertical-align: middle;\n",
              "    }\n",
              "\n",
              "    .dataframe tbody tr th {\n",
              "        vertical-align: top;\n",
              "    }\n",
              "\n",
              "    .dataframe thead th {\n",
              "        text-align: right;\n",
              "    }\n",
              "</style>\n",
              "<table border=\"1\" class=\"dataframe\">\n",
              "  <thead>\n",
              "    <tr style=\"text-align: right;\">\n",
              "      <th></th>\n",
              "      <th>tanggal_pembelian</th>\n",
              "      <th>jenis_tanaman</th>\n",
              "      <th>harga_satuan</th>\n",
              "      <th>stok</th>\n",
              "      <th>jumlah_terjual</th>\n",
              "      <th>jumlah_pendapatan</th>\n",
              "      <th>cuaca</th>\n",
              "    </tr>\n",
              "  </thead>\n",
              "  <tbody>\n",
              "    <tr>\n",
              "      <th>0</th>\n",
              "      <td>2022-01-03</td>\n",
              "      <td>Kedondong</td>\n",
              "      <td>50</td>\n",
              "      <td>13</td>\n",
              "      <td>2</td>\n",
              "      <td>100</td>\n",
              "      <td>kabut</td>\n",
              "    </tr>\n",
              "    <tr>\n",
              "      <th>1</th>\n",
              "      <td>2022-01-04</td>\n",
              "      <td>Rambutan</td>\n",
              "      <td>60</td>\n",
              "      <td>5</td>\n",
              "      <td>1</td>\n",
              "      <td>60</td>\n",
              "      <td>panas</td>\n",
              "    </tr>\n",
              "    <tr>\n",
              "      <th>2</th>\n",
              "      <td>2022-01-05</td>\n",
              "      <td>Petei</td>\n",
              "      <td>50</td>\n",
              "      <td>6</td>\n",
              "      <td>1</td>\n",
              "      <td>50</td>\n",
              "      <td>panas</td>\n",
              "    </tr>\n",
              "    <tr>\n",
              "      <th>3</th>\n",
              "      <td>2022-01-06</td>\n",
              "      <td>Puring</td>\n",
              "      <td>20</td>\n",
              "      <td>10</td>\n",
              "      <td>1</td>\n",
              "      <td>20</td>\n",
              "      <td>mendung</td>\n",
              "    </tr>\n",
              "    <tr>\n",
              "      <th>4</th>\n",
              "      <td>2022-01-07</td>\n",
              "      <td>Kustik</td>\n",
              "      <td>30</td>\n",
              "      <td>8</td>\n",
              "      <td>1</td>\n",
              "      <td>30</td>\n",
              "      <td>kabut</td>\n",
              "    </tr>\n",
              "    <tr>\n",
              "      <th>...</th>\n",
              "      <td>...</td>\n",
              "      <td>...</td>\n",
              "      <td>...</td>\n",
              "      <td>...</td>\n",
              "      <td>...</td>\n",
              "      <td>...</td>\n",
              "      <td>...</td>\n",
              "    </tr>\n",
              "    <tr>\n",
              "      <th>194</th>\n",
              "      <td>2023-12-28</td>\n",
              "      <td>Cemaraloki</td>\n",
              "      <td>50</td>\n",
              "      <td>3</td>\n",
              "      <td>1</td>\n",
              "      <td>50</td>\n",
              "      <td>hujan</td>\n",
              "    </tr>\n",
              "    <tr>\n",
              "      <th>195</th>\n",
              "      <td>2024-01-12</td>\n",
              "      <td>Sukun</td>\n",
              "      <td>250</td>\n",
              "      <td>9</td>\n",
              "      <td>1</td>\n",
              "      <td>250</td>\n",
              "      <td>mendung</td>\n",
              "    </tr>\n",
              "    <tr>\n",
              "      <th>196</th>\n",
              "      <td>2024-02-01</td>\n",
              "      <td>Sukun</td>\n",
              "      <td>250</td>\n",
              "      <td>8</td>\n",
              "      <td>1</td>\n",
              "      <td>250</td>\n",
              "      <td>angin</td>\n",
              "    </tr>\n",
              "    <tr>\n",
              "      <th>197</th>\n",
              "      <td>2024-02-25</td>\n",
              "      <td>Kadu</td>\n",
              "      <td>100</td>\n",
              "      <td>10</td>\n",
              "      <td>1</td>\n",
              "      <td>100</td>\n",
              "      <td>badai</td>\n",
              "    </tr>\n",
              "    <tr>\n",
              "      <th>198</th>\n",
              "      <td>2024-03-17</td>\n",
              "      <td>Mawar</td>\n",
              "      <td>20</td>\n",
              "      <td>13</td>\n",
              "      <td>1</td>\n",
              "      <td>20</td>\n",
              "      <td>hujan</td>\n",
              "    </tr>\n",
              "  </tbody>\n",
              "</table>\n",
              "<p>199 rows × 7 columns</p>\n",
              "</div>\n",
              "    <div class=\"colab-df-buttons\">\n",
              "\n",
              "  <div class=\"colab-df-container\">\n",
              "    <button class=\"colab-df-convert\" onclick=\"convertToInteractive('df-8e71f47b-68b3-4cbf-8e6b-e73154d669fe')\"\n",
              "            title=\"Convert this dataframe to an interactive table.\"\n",
              "            style=\"display:none;\">\n",
              "\n",
              "  <svg xmlns=\"http://www.w3.org/2000/svg\" height=\"24px\" viewBox=\"0 -960 960 960\">\n",
              "    <path d=\"M120-120v-720h720v720H120Zm60-500h600v-160H180v160Zm220 220h160v-160H400v160Zm0 220h160v-160H400v160ZM180-400h160v-160H180v160Zm440 0h160v-160H620v160ZM180-180h160v-160H180v160Zm440 0h160v-160H620v160Z\"/>\n",
              "  </svg>\n",
              "    </button>\n",
              "\n",
              "  <style>\n",
              "    .colab-df-container {\n",
              "      display:flex;\n",
              "      gap: 12px;\n",
              "    }\n",
              "\n",
              "    .colab-df-convert {\n",
              "      background-color: #E8F0FE;\n",
              "      border: none;\n",
              "      border-radius: 50%;\n",
              "      cursor: pointer;\n",
              "      display: none;\n",
              "      fill: #1967D2;\n",
              "      height: 32px;\n",
              "      padding: 0 0 0 0;\n",
              "      width: 32px;\n",
              "    }\n",
              "\n",
              "    .colab-df-convert:hover {\n",
              "      background-color: #E2EBFA;\n",
              "      box-shadow: 0px 1px 2px rgba(60, 64, 67, 0.3), 0px 1px 3px 1px rgba(60, 64, 67, 0.15);\n",
              "      fill: #174EA6;\n",
              "    }\n",
              "\n",
              "    .colab-df-buttons div {\n",
              "      margin-bottom: 4px;\n",
              "    }\n",
              "\n",
              "    [theme=dark] .colab-df-convert {\n",
              "      background-color: #3B4455;\n",
              "      fill: #D2E3FC;\n",
              "    }\n",
              "\n",
              "    [theme=dark] .colab-df-convert:hover {\n",
              "      background-color: #434B5C;\n",
              "      box-shadow: 0px 1px 3px 1px rgba(0, 0, 0, 0.15);\n",
              "      filter: drop-shadow(0px 1px 2px rgba(0, 0, 0, 0.3));\n",
              "      fill: #FFFFFF;\n",
              "    }\n",
              "  </style>\n",
              "\n",
              "    <script>\n",
              "      const buttonEl =\n",
              "        document.querySelector('#df-8e71f47b-68b3-4cbf-8e6b-e73154d669fe button.colab-df-convert');\n",
              "      buttonEl.style.display =\n",
              "        google.colab.kernel.accessAllowed ? 'block' : 'none';\n",
              "\n",
              "      async function convertToInteractive(key) {\n",
              "        const element = document.querySelector('#df-8e71f47b-68b3-4cbf-8e6b-e73154d669fe');\n",
              "        const dataTable =\n",
              "          await google.colab.kernel.invokeFunction('convertToInteractive',\n",
              "                                                    [key], {});\n",
              "        if (!dataTable) return;\n",
              "\n",
              "        const docLinkHtml = 'Like what you see? Visit the ' +\n",
              "          '<a target=\"_blank\" href=https://colab.research.google.com/notebooks/data_table.ipynb>data table notebook</a>'\n",
              "          + ' to learn more about interactive tables.';\n",
              "        element.innerHTML = '';\n",
              "        dataTable['output_type'] = 'display_data';\n",
              "        await google.colab.output.renderOutput(dataTable, element);\n",
              "        const docLink = document.createElement('div');\n",
              "        docLink.innerHTML = docLinkHtml;\n",
              "        element.appendChild(docLink);\n",
              "      }\n",
              "    </script>\n",
              "  </div>\n",
              "\n",
              "\n",
              "<div id=\"df-b14e6158-48d0-4a7f-aeb4-a0e8506e70b1\">\n",
              "  <button class=\"colab-df-quickchart\" onclick=\"quickchart('df-b14e6158-48d0-4a7f-aeb4-a0e8506e70b1')\"\n",
              "            title=\"Suggest charts\"\n",
              "            style=\"display:none;\">\n",
              "\n",
              "<svg xmlns=\"http://www.w3.org/2000/svg\" height=\"24px\"viewBox=\"0 0 24 24\"\n",
              "     width=\"24px\">\n",
              "    <g>\n",
              "        <path d=\"M19 3H5c-1.1 0-2 .9-2 2v14c0 1.1.9 2 2 2h14c1.1 0 2-.9 2-2V5c0-1.1-.9-2-2-2zM9 17H7v-7h2v7zm4 0h-2V7h2v10zm4 0h-2v-4h2v4z\"/>\n",
              "    </g>\n",
              "</svg>\n",
              "  </button>\n",
              "\n",
              "<style>\n",
              "  .colab-df-quickchart {\n",
              "      --bg-color: #E8F0FE;\n",
              "      --fill-color: #1967D2;\n",
              "      --hover-bg-color: #E2EBFA;\n",
              "      --hover-fill-color: #174EA6;\n",
              "      --disabled-fill-color: #AAA;\n",
              "      --disabled-bg-color: #DDD;\n",
              "  }\n",
              "\n",
              "  [theme=dark] .colab-df-quickchart {\n",
              "      --bg-color: #3B4455;\n",
              "      --fill-color: #D2E3FC;\n",
              "      --hover-bg-color: #434B5C;\n",
              "      --hover-fill-color: #FFFFFF;\n",
              "      --disabled-bg-color: #3B4455;\n",
              "      --disabled-fill-color: #666;\n",
              "  }\n",
              "\n",
              "  .colab-df-quickchart {\n",
              "    background-color: var(--bg-color);\n",
              "    border: none;\n",
              "    border-radius: 50%;\n",
              "    cursor: pointer;\n",
              "    display: none;\n",
              "    fill: var(--fill-color);\n",
              "    height: 32px;\n",
              "    padding: 0;\n",
              "    width: 32px;\n",
              "  }\n",
              "\n",
              "  .colab-df-quickchart:hover {\n",
              "    background-color: var(--hover-bg-color);\n",
              "    box-shadow: 0 1px 2px rgba(60, 64, 67, 0.3), 0 1px 3px 1px rgba(60, 64, 67, 0.15);\n",
              "    fill: var(--button-hover-fill-color);\n",
              "  }\n",
              "\n",
              "  .colab-df-quickchart-complete:disabled,\n",
              "  .colab-df-quickchart-complete:disabled:hover {\n",
              "    background-color: var(--disabled-bg-color);\n",
              "    fill: var(--disabled-fill-color);\n",
              "    box-shadow: none;\n",
              "  }\n",
              "\n",
              "  .colab-df-spinner {\n",
              "    border: 2px solid var(--fill-color);\n",
              "    border-color: transparent;\n",
              "    border-bottom-color: var(--fill-color);\n",
              "    animation:\n",
              "      spin 1s steps(1) infinite;\n",
              "  }\n",
              "\n",
              "  @keyframes spin {\n",
              "    0% {\n",
              "      border-color: transparent;\n",
              "      border-bottom-color: var(--fill-color);\n",
              "      border-left-color: var(--fill-color);\n",
              "    }\n",
              "    20% {\n",
              "      border-color: transparent;\n",
              "      border-left-color: var(--fill-color);\n",
              "      border-top-color: var(--fill-color);\n",
              "    }\n",
              "    30% {\n",
              "      border-color: transparent;\n",
              "      border-left-color: var(--fill-color);\n",
              "      border-top-color: var(--fill-color);\n",
              "      border-right-color: var(--fill-color);\n",
              "    }\n",
              "    40% {\n",
              "      border-color: transparent;\n",
              "      border-right-color: var(--fill-color);\n",
              "      border-top-color: var(--fill-color);\n",
              "    }\n",
              "    60% {\n",
              "      border-color: transparent;\n",
              "      border-right-color: var(--fill-color);\n",
              "    }\n",
              "    80% {\n",
              "      border-color: transparent;\n",
              "      border-right-color: var(--fill-color);\n",
              "      border-bottom-color: var(--fill-color);\n",
              "    }\n",
              "    90% {\n",
              "      border-color: transparent;\n",
              "      border-bottom-color: var(--fill-color);\n",
              "    }\n",
              "  }\n",
              "</style>\n",
              "\n",
              "  <script>\n",
              "    async function quickchart(key) {\n",
              "      const quickchartButtonEl =\n",
              "        document.querySelector('#' + key + ' button');\n",
              "      quickchartButtonEl.disabled = true;  // To prevent multiple clicks.\n",
              "      quickchartButtonEl.classList.add('colab-df-spinner');\n",
              "      try {\n",
              "        const charts = await google.colab.kernel.invokeFunction(\n",
              "            'suggestCharts', [key], {});\n",
              "      } catch (error) {\n",
              "        console.error('Error during call to suggestCharts:', error);\n",
              "      }\n",
              "      quickchartButtonEl.classList.remove('colab-df-spinner');\n",
              "      quickchartButtonEl.classList.add('colab-df-quickchart-complete');\n",
              "    }\n",
              "    (() => {\n",
              "      let quickchartButtonEl =\n",
              "        document.querySelector('#df-b14e6158-48d0-4a7f-aeb4-a0e8506e70b1 button');\n",
              "      quickchartButtonEl.style.display =\n",
              "        google.colab.kernel.accessAllowed ? 'block' : 'none';\n",
              "    })();\n",
              "  </script>\n",
              "</div>\n",
              "    </div>\n",
              "  </div>\n"
            ],
            "application/vnd.google.colaboratory.intrinsic+json": {
              "type": "dataframe",
              "variable_name": "df",
              "summary": "{\n  \"name\": \"df\",\n  \"rows\": 199,\n  \"fields\": [\n    {\n      \"column\": \"tanggal_pembelian\",\n      \"properties\": {\n        \"dtype\": \"date\",\n        \"min\": \"2022-01-03 00:00:00\",\n        \"max\": \"2024-03-17 00:00:00\",\n        \"num_unique_values\": 196,\n        \"samples\": [\n          \"2023-06-22 00:00:00\",\n          \"2023-03-22 00:00:00\",\n          \"2022-03-21 00:00:00\"\n        ],\n        \"semantic_type\": \"\",\n        \"description\": \"\"\n      }\n    },\n    {\n      \"column\": \"jenis_tanaman\",\n      \"properties\": {\n        \"dtype\": \"category\",\n        \"num_unique_values\": 33,\n        \"samples\": [\n          \"Pucuk Merah\",\n          \"Cereme\",\n          \"Bidara \"\n        ],\n        \"semantic_type\": \"\",\n        \"description\": \"\"\n      }\n    },\n    {\n      \"column\": \"harga_satuan\",\n      \"properties\": {\n        \"dtype\": \"number\",\n        \"std\": 59,\n        \"min\": 20,\n        \"max\": 250,\n        \"num_unique_values\": 11,\n        \"samples\": [\n          80,\n          50,\n          200\n        ],\n        \"semantic_type\": \"\",\n        \"description\": \"\"\n      }\n    },\n    {\n      \"column\": \"stok\",\n      \"properties\": {\n        \"dtype\": \"number\",\n        \"std\": 4,\n        \"min\": 1,\n        \"max\": 23,\n        \"num_unique_values\": 21,\n        \"samples\": [\n          13,\n          19,\n          23\n        ],\n        \"semantic_type\": \"\",\n        \"description\": \"\"\n      }\n    },\n    {\n      \"column\": \"jumlah_terjual\",\n      \"properties\": {\n        \"dtype\": \"number\",\n        \"std\": 0,\n        \"min\": 1,\n        \"max\": 5,\n        \"num_unique_values\": 5,\n        \"samples\": [\n          1,\n          5,\n          3\n        ],\n        \"semantic_type\": \"\",\n        \"description\": \"\"\n      }\n    },\n    {\n      \"column\": \"jumlah_pendapatan\",\n      \"properties\": {\n        \"dtype\": \"number\",\n        \"std\": 83,\n        \"min\": 20,\n        \"max\": 500,\n        \"num_unique_values\": 18,\n        \"samples\": [\n          100,\n          60,\n          125\n        ],\n        \"semantic_type\": \"\",\n        \"description\": \"\"\n      }\n    },\n    {\n      \"column\": \"cuaca\",\n      \"properties\": {\n        \"dtype\": \"category\",\n        \"num_unique_values\": 7,\n        \"samples\": [\n          \"kabut\",\n          \"panas\",\n          \"badai\"\n        ],\n        \"semantic_type\": \"\",\n        \"description\": \"\"\n      }\n    }\n  ]\n}"
            }
          },
          "metadata": {},
          "execution_count": 9
        }
      ]
    },
    {
      "cell_type": "markdown",
      "source": [
        "> Kode program diatas digunakan untuk menghapus nilai duplikat yang ada pada DataFrame `df`. `inplace(True)` berfungsi untuk mereplace DataFrame `df` dengan DataFrame yang sudah dilakukan proses penghapusan nilai duplikat. Hasilnya tidak ada nilai duplikat pada row manapun karena jumlah row tidak berubah dari yang sebelumnya."
      ],
      "metadata": {
        "id": "--yJPb0DWdZj"
      }
    },
    {
      "cell_type": "code",
      "source": [
        "df = df.rename(columns={'tanggal_pembelian': 'waktu_pembelian'})\n",
        "df"
      ],
      "metadata": {
        "colab": {
          "base_uri": "https://localhost:8080/",
          "height": 423
        },
        "id": "1jknLS6-fs87",
        "outputId": "57c56983-7fa7-48b5-cef6-212e4185e071"
      },
      "execution_count": null,
      "outputs": [
        {
          "output_type": "execute_result",
          "data": {
            "text/plain": [
              "    waktu_pembelian jenis_tanaman  harga_satuan  stok  jumlah_terjual  \\\n",
              "0        2022-01-03     Kedondong            50    13               2   \n",
              "1        2022-01-04      Rambutan            60     5               1   \n",
              "2        2022-01-05         Petei            50     6               1   \n",
              "3        2022-01-06        Puring            20    10               1   \n",
              "4        2022-01-07        Kustik            30     8               1   \n",
              "..              ...           ...           ...   ...             ...   \n",
              "194      2023-12-28    Cemaraloki            50     3               1   \n",
              "195      2024-01-12         Sukun           250     9               1   \n",
              "196      2024-02-01         Sukun           250     8               1   \n",
              "197      2024-02-25          Kadu           100    10               1   \n",
              "198      2024-03-17         Mawar            20    13               1   \n",
              "\n",
              "     jumlah_pendapatan    cuaca  \n",
              "0                  100    kabut  \n",
              "1                   60    panas  \n",
              "2                   50    panas  \n",
              "3                   20  mendung  \n",
              "4                   30    kabut  \n",
              "..                 ...      ...  \n",
              "194                 50    hujan  \n",
              "195                250  mendung  \n",
              "196                250    angin  \n",
              "197                100    badai  \n",
              "198                 20    hujan  \n",
              "\n",
              "[199 rows x 7 columns]"
            ],
            "text/html": [
              "\n",
              "  <div id=\"df-0d8472dc-f8a6-4d59-b90f-ca3341464718\" class=\"colab-df-container\">\n",
              "    <div>\n",
              "<style scoped>\n",
              "    .dataframe tbody tr th:only-of-type {\n",
              "        vertical-align: middle;\n",
              "    }\n",
              "\n",
              "    .dataframe tbody tr th {\n",
              "        vertical-align: top;\n",
              "    }\n",
              "\n",
              "    .dataframe thead th {\n",
              "        text-align: right;\n",
              "    }\n",
              "</style>\n",
              "<table border=\"1\" class=\"dataframe\">\n",
              "  <thead>\n",
              "    <tr style=\"text-align: right;\">\n",
              "      <th></th>\n",
              "      <th>waktu_pembelian</th>\n",
              "      <th>jenis_tanaman</th>\n",
              "      <th>harga_satuan</th>\n",
              "      <th>stok</th>\n",
              "      <th>jumlah_terjual</th>\n",
              "      <th>jumlah_pendapatan</th>\n",
              "      <th>cuaca</th>\n",
              "    </tr>\n",
              "  </thead>\n",
              "  <tbody>\n",
              "    <tr>\n",
              "      <th>0</th>\n",
              "      <td>2022-01-03</td>\n",
              "      <td>Kedondong</td>\n",
              "      <td>50</td>\n",
              "      <td>13</td>\n",
              "      <td>2</td>\n",
              "      <td>100</td>\n",
              "      <td>kabut</td>\n",
              "    </tr>\n",
              "    <tr>\n",
              "      <th>1</th>\n",
              "      <td>2022-01-04</td>\n",
              "      <td>Rambutan</td>\n",
              "      <td>60</td>\n",
              "      <td>5</td>\n",
              "      <td>1</td>\n",
              "      <td>60</td>\n",
              "      <td>panas</td>\n",
              "    </tr>\n",
              "    <tr>\n",
              "      <th>2</th>\n",
              "      <td>2022-01-05</td>\n",
              "      <td>Petei</td>\n",
              "      <td>50</td>\n",
              "      <td>6</td>\n",
              "      <td>1</td>\n",
              "      <td>50</td>\n",
              "      <td>panas</td>\n",
              "    </tr>\n",
              "    <tr>\n",
              "      <th>3</th>\n",
              "      <td>2022-01-06</td>\n",
              "      <td>Puring</td>\n",
              "      <td>20</td>\n",
              "      <td>10</td>\n",
              "      <td>1</td>\n",
              "      <td>20</td>\n",
              "      <td>mendung</td>\n",
              "    </tr>\n",
              "    <tr>\n",
              "      <th>4</th>\n",
              "      <td>2022-01-07</td>\n",
              "      <td>Kustik</td>\n",
              "      <td>30</td>\n",
              "      <td>8</td>\n",
              "      <td>1</td>\n",
              "      <td>30</td>\n",
              "      <td>kabut</td>\n",
              "    </tr>\n",
              "    <tr>\n",
              "      <th>...</th>\n",
              "      <td>...</td>\n",
              "      <td>...</td>\n",
              "      <td>...</td>\n",
              "      <td>...</td>\n",
              "      <td>...</td>\n",
              "      <td>...</td>\n",
              "      <td>...</td>\n",
              "    </tr>\n",
              "    <tr>\n",
              "      <th>194</th>\n",
              "      <td>2023-12-28</td>\n",
              "      <td>Cemaraloki</td>\n",
              "      <td>50</td>\n",
              "      <td>3</td>\n",
              "      <td>1</td>\n",
              "      <td>50</td>\n",
              "      <td>hujan</td>\n",
              "    </tr>\n",
              "    <tr>\n",
              "      <th>195</th>\n",
              "      <td>2024-01-12</td>\n",
              "      <td>Sukun</td>\n",
              "      <td>250</td>\n",
              "      <td>9</td>\n",
              "      <td>1</td>\n",
              "      <td>250</td>\n",
              "      <td>mendung</td>\n",
              "    </tr>\n",
              "    <tr>\n",
              "      <th>196</th>\n",
              "      <td>2024-02-01</td>\n",
              "      <td>Sukun</td>\n",
              "      <td>250</td>\n",
              "      <td>8</td>\n",
              "      <td>1</td>\n",
              "      <td>250</td>\n",
              "      <td>angin</td>\n",
              "    </tr>\n",
              "    <tr>\n",
              "      <th>197</th>\n",
              "      <td>2024-02-25</td>\n",
              "      <td>Kadu</td>\n",
              "      <td>100</td>\n",
              "      <td>10</td>\n",
              "      <td>1</td>\n",
              "      <td>100</td>\n",
              "      <td>badai</td>\n",
              "    </tr>\n",
              "    <tr>\n",
              "      <th>198</th>\n",
              "      <td>2024-03-17</td>\n",
              "      <td>Mawar</td>\n",
              "      <td>20</td>\n",
              "      <td>13</td>\n",
              "      <td>1</td>\n",
              "      <td>20</td>\n",
              "      <td>hujan</td>\n",
              "    </tr>\n",
              "  </tbody>\n",
              "</table>\n",
              "<p>199 rows × 7 columns</p>\n",
              "</div>\n",
              "    <div class=\"colab-df-buttons\">\n",
              "\n",
              "  <div class=\"colab-df-container\">\n",
              "    <button class=\"colab-df-convert\" onclick=\"convertToInteractive('df-0d8472dc-f8a6-4d59-b90f-ca3341464718')\"\n",
              "            title=\"Convert this dataframe to an interactive table.\"\n",
              "            style=\"display:none;\">\n",
              "\n",
              "  <svg xmlns=\"http://www.w3.org/2000/svg\" height=\"24px\" viewBox=\"0 -960 960 960\">\n",
              "    <path d=\"M120-120v-720h720v720H120Zm60-500h600v-160H180v160Zm220 220h160v-160H400v160Zm0 220h160v-160H400v160ZM180-400h160v-160H180v160Zm440 0h160v-160H620v160ZM180-180h160v-160H180v160Zm440 0h160v-160H620v160Z\"/>\n",
              "  </svg>\n",
              "    </button>\n",
              "\n",
              "  <style>\n",
              "    .colab-df-container {\n",
              "      display:flex;\n",
              "      gap: 12px;\n",
              "    }\n",
              "\n",
              "    .colab-df-convert {\n",
              "      background-color: #E8F0FE;\n",
              "      border: none;\n",
              "      border-radius: 50%;\n",
              "      cursor: pointer;\n",
              "      display: none;\n",
              "      fill: #1967D2;\n",
              "      height: 32px;\n",
              "      padding: 0 0 0 0;\n",
              "      width: 32px;\n",
              "    }\n",
              "\n",
              "    .colab-df-convert:hover {\n",
              "      background-color: #E2EBFA;\n",
              "      box-shadow: 0px 1px 2px rgba(60, 64, 67, 0.3), 0px 1px 3px 1px rgba(60, 64, 67, 0.15);\n",
              "      fill: #174EA6;\n",
              "    }\n",
              "\n",
              "    .colab-df-buttons div {\n",
              "      margin-bottom: 4px;\n",
              "    }\n",
              "\n",
              "    [theme=dark] .colab-df-convert {\n",
              "      background-color: #3B4455;\n",
              "      fill: #D2E3FC;\n",
              "    }\n",
              "\n",
              "    [theme=dark] .colab-df-convert:hover {\n",
              "      background-color: #434B5C;\n",
              "      box-shadow: 0px 1px 3px 1px rgba(0, 0, 0, 0.15);\n",
              "      filter: drop-shadow(0px 1px 2px rgba(0, 0, 0, 0.3));\n",
              "      fill: #FFFFFF;\n",
              "    }\n",
              "  </style>\n",
              "\n",
              "    <script>\n",
              "      const buttonEl =\n",
              "        document.querySelector('#df-0d8472dc-f8a6-4d59-b90f-ca3341464718 button.colab-df-convert');\n",
              "      buttonEl.style.display =\n",
              "        google.colab.kernel.accessAllowed ? 'block' : 'none';\n",
              "\n",
              "      async function convertToInteractive(key) {\n",
              "        const element = document.querySelector('#df-0d8472dc-f8a6-4d59-b90f-ca3341464718');\n",
              "        const dataTable =\n",
              "          await google.colab.kernel.invokeFunction('convertToInteractive',\n",
              "                                                    [key], {});\n",
              "        if (!dataTable) return;\n",
              "\n",
              "        const docLinkHtml = 'Like what you see? Visit the ' +\n",
              "          '<a target=\"_blank\" href=https://colab.research.google.com/notebooks/data_table.ipynb>data table notebook</a>'\n",
              "          + ' to learn more about interactive tables.';\n",
              "        element.innerHTML = '';\n",
              "        dataTable['output_type'] = 'display_data';\n",
              "        await google.colab.output.renderOutput(dataTable, element);\n",
              "        const docLink = document.createElement('div');\n",
              "        docLink.innerHTML = docLinkHtml;\n",
              "        element.appendChild(docLink);\n",
              "      }\n",
              "    </script>\n",
              "  </div>\n",
              "\n",
              "\n",
              "<div id=\"df-0d3f4cd0-c923-43c5-8f03-14735d9e34c6\">\n",
              "  <button class=\"colab-df-quickchart\" onclick=\"quickchart('df-0d3f4cd0-c923-43c5-8f03-14735d9e34c6')\"\n",
              "            title=\"Suggest charts\"\n",
              "            style=\"display:none;\">\n",
              "\n",
              "<svg xmlns=\"http://www.w3.org/2000/svg\" height=\"24px\"viewBox=\"0 0 24 24\"\n",
              "     width=\"24px\">\n",
              "    <g>\n",
              "        <path d=\"M19 3H5c-1.1 0-2 .9-2 2v14c0 1.1.9 2 2 2h14c1.1 0 2-.9 2-2V5c0-1.1-.9-2-2-2zM9 17H7v-7h2v7zm4 0h-2V7h2v10zm4 0h-2v-4h2v4z\"/>\n",
              "    </g>\n",
              "</svg>\n",
              "  </button>\n",
              "\n",
              "<style>\n",
              "  .colab-df-quickchart {\n",
              "      --bg-color: #E8F0FE;\n",
              "      --fill-color: #1967D2;\n",
              "      --hover-bg-color: #E2EBFA;\n",
              "      --hover-fill-color: #174EA6;\n",
              "      --disabled-fill-color: #AAA;\n",
              "      --disabled-bg-color: #DDD;\n",
              "  }\n",
              "\n",
              "  [theme=dark] .colab-df-quickchart {\n",
              "      --bg-color: #3B4455;\n",
              "      --fill-color: #D2E3FC;\n",
              "      --hover-bg-color: #434B5C;\n",
              "      --hover-fill-color: #FFFFFF;\n",
              "      --disabled-bg-color: #3B4455;\n",
              "      --disabled-fill-color: #666;\n",
              "  }\n",
              "\n",
              "  .colab-df-quickchart {\n",
              "    background-color: var(--bg-color);\n",
              "    border: none;\n",
              "    border-radius: 50%;\n",
              "    cursor: pointer;\n",
              "    display: none;\n",
              "    fill: var(--fill-color);\n",
              "    height: 32px;\n",
              "    padding: 0;\n",
              "    width: 32px;\n",
              "  }\n",
              "\n",
              "  .colab-df-quickchart:hover {\n",
              "    background-color: var(--hover-bg-color);\n",
              "    box-shadow: 0 1px 2px rgba(60, 64, 67, 0.3), 0 1px 3px 1px rgba(60, 64, 67, 0.15);\n",
              "    fill: var(--button-hover-fill-color);\n",
              "  }\n",
              "\n",
              "  .colab-df-quickchart-complete:disabled,\n",
              "  .colab-df-quickchart-complete:disabled:hover {\n",
              "    background-color: var(--disabled-bg-color);\n",
              "    fill: var(--disabled-fill-color);\n",
              "    box-shadow: none;\n",
              "  }\n",
              "\n",
              "  .colab-df-spinner {\n",
              "    border: 2px solid var(--fill-color);\n",
              "    border-color: transparent;\n",
              "    border-bottom-color: var(--fill-color);\n",
              "    animation:\n",
              "      spin 1s steps(1) infinite;\n",
              "  }\n",
              "\n",
              "  @keyframes spin {\n",
              "    0% {\n",
              "      border-color: transparent;\n",
              "      border-bottom-color: var(--fill-color);\n",
              "      border-left-color: var(--fill-color);\n",
              "    }\n",
              "    20% {\n",
              "      border-color: transparent;\n",
              "      border-left-color: var(--fill-color);\n",
              "      border-top-color: var(--fill-color);\n",
              "    }\n",
              "    30% {\n",
              "      border-color: transparent;\n",
              "      border-left-color: var(--fill-color);\n",
              "      border-top-color: var(--fill-color);\n",
              "      border-right-color: var(--fill-color);\n",
              "    }\n",
              "    40% {\n",
              "      border-color: transparent;\n",
              "      border-right-color: var(--fill-color);\n",
              "      border-top-color: var(--fill-color);\n",
              "    }\n",
              "    60% {\n",
              "      border-color: transparent;\n",
              "      border-right-color: var(--fill-color);\n",
              "    }\n",
              "    80% {\n",
              "      border-color: transparent;\n",
              "      border-right-color: var(--fill-color);\n",
              "      border-bottom-color: var(--fill-color);\n",
              "    }\n",
              "    90% {\n",
              "      border-color: transparent;\n",
              "      border-bottom-color: var(--fill-color);\n",
              "    }\n",
              "  }\n",
              "</style>\n",
              "\n",
              "  <script>\n",
              "    async function quickchart(key) {\n",
              "      const quickchartButtonEl =\n",
              "        document.querySelector('#' + key + ' button');\n",
              "      quickchartButtonEl.disabled = true;  // To prevent multiple clicks.\n",
              "      quickchartButtonEl.classList.add('colab-df-spinner');\n",
              "      try {\n",
              "        const charts = await google.colab.kernel.invokeFunction(\n",
              "            'suggestCharts', [key], {});\n",
              "      } catch (error) {\n",
              "        console.error('Error during call to suggestCharts:', error);\n",
              "      }\n",
              "      quickchartButtonEl.classList.remove('colab-df-spinner');\n",
              "      quickchartButtonEl.classList.add('colab-df-quickchart-complete');\n",
              "    }\n",
              "    (() => {\n",
              "      let quickchartButtonEl =\n",
              "        document.querySelector('#df-0d3f4cd0-c923-43c5-8f03-14735d9e34c6 button');\n",
              "      quickchartButtonEl.style.display =\n",
              "        google.colab.kernel.accessAllowed ? 'block' : 'none';\n",
              "    })();\n",
              "  </script>\n",
              "</div>\n",
              "    </div>\n",
              "  </div>\n"
            ],
            "application/vnd.google.colaboratory.intrinsic+json": {
              "type": "dataframe",
              "variable_name": "df",
              "summary": "{\n  \"name\": \"df\",\n  \"rows\": 199,\n  \"fields\": [\n    {\n      \"column\": \"waktu_pembelian\",\n      \"properties\": {\n        \"dtype\": \"date\",\n        \"min\": \"2022-01-03 00:00:00\",\n        \"max\": \"2024-03-17 00:00:00\",\n        \"num_unique_values\": 196,\n        \"samples\": [\n          \"2023-06-22 00:00:00\",\n          \"2023-03-22 00:00:00\",\n          \"2022-03-21 00:00:00\"\n        ],\n        \"semantic_type\": \"\",\n        \"description\": \"\"\n      }\n    },\n    {\n      \"column\": \"jenis_tanaman\",\n      \"properties\": {\n        \"dtype\": \"category\",\n        \"num_unique_values\": 33,\n        \"samples\": [\n          \"Pucuk Merah\",\n          \"Cereme\",\n          \"Bidara \"\n        ],\n        \"semantic_type\": \"\",\n        \"description\": \"\"\n      }\n    },\n    {\n      \"column\": \"harga_satuan\",\n      \"properties\": {\n        \"dtype\": \"number\",\n        \"std\": 59,\n        \"min\": 20,\n        \"max\": 250,\n        \"num_unique_values\": 11,\n        \"samples\": [\n          80,\n          50,\n          200\n        ],\n        \"semantic_type\": \"\",\n        \"description\": \"\"\n      }\n    },\n    {\n      \"column\": \"stok\",\n      \"properties\": {\n        \"dtype\": \"number\",\n        \"std\": 4,\n        \"min\": 1,\n        \"max\": 23,\n        \"num_unique_values\": 21,\n        \"samples\": [\n          13,\n          19,\n          23\n        ],\n        \"semantic_type\": \"\",\n        \"description\": \"\"\n      }\n    },\n    {\n      \"column\": \"jumlah_terjual\",\n      \"properties\": {\n        \"dtype\": \"number\",\n        \"std\": 0,\n        \"min\": 1,\n        \"max\": 5,\n        \"num_unique_values\": 5,\n        \"samples\": [\n          1,\n          5,\n          3\n        ],\n        \"semantic_type\": \"\",\n        \"description\": \"\"\n      }\n    },\n    {\n      \"column\": \"jumlah_pendapatan\",\n      \"properties\": {\n        \"dtype\": \"number\",\n        \"std\": 83,\n        \"min\": 20,\n        \"max\": 500,\n        \"num_unique_values\": 18,\n        \"samples\": [\n          100,\n          60,\n          125\n        ],\n        \"semantic_type\": \"\",\n        \"description\": \"\"\n      }\n    },\n    {\n      \"column\": \"cuaca\",\n      \"properties\": {\n        \"dtype\": \"category\",\n        \"num_unique_values\": 7,\n        \"samples\": [\n          \"kabut\",\n          \"panas\",\n          \"badai\"\n        ],\n        \"semantic_type\": \"\",\n        \"description\": \"\"\n      }\n    }\n  ]\n}"
            }
          },
          "metadata": {},
          "execution_count": 10
        }
      ]
    },
    {
      "cell_type": "markdown",
      "source": [
        "> Kode program diatas digunakan untuk mengganti nama kolom `tanggal_pembelian` menjadi `waktu_pembelian` dengan method `rename()` dikarenakan terdapat komponen lain selain tanggal yaitu bulan dan tahun pembelian."
      ],
      "metadata": {
        "id": "HyZKdZohXLIt"
      }
    },
    {
      "cell_type": "code",
      "source": [
        "df['bulan_pembelian'] = df['waktu_pembelian'].dt.month\n",
        "df['tahun_pembelian'] = df['waktu_pembelian'].dt.year\n",
        "df"
      ],
      "metadata": {
        "colab": {
          "base_uri": "https://localhost:8080/",
          "height": 423
        },
        "id": "lLIu-m2Xffok",
        "outputId": "b29c10e0-8a60-4e75-dcc8-b35ac44d7b49"
      },
      "execution_count": null,
      "outputs": [
        {
          "output_type": "execute_result",
          "data": {
            "text/plain": [
              "    waktu_pembelian jenis_tanaman  harga_satuan  stok  jumlah_terjual  \\\n",
              "0        2022-01-03     Kedondong            50    13               2   \n",
              "1        2022-01-04      Rambutan            60     5               1   \n",
              "2        2022-01-05         Petei            50     6               1   \n",
              "3        2022-01-06        Puring            20    10               1   \n",
              "4        2022-01-07        Kustik            30     8               1   \n",
              "..              ...           ...           ...   ...             ...   \n",
              "194      2023-12-28    Cemaraloki            50     3               1   \n",
              "195      2024-01-12         Sukun           250     9               1   \n",
              "196      2024-02-01         Sukun           250     8               1   \n",
              "197      2024-02-25          Kadu           100    10               1   \n",
              "198      2024-03-17         Mawar            20    13               1   \n",
              "\n",
              "     jumlah_pendapatan    cuaca  bulan_pembelian  tahun_pembelian  \n",
              "0                  100    kabut                1             2022  \n",
              "1                   60    panas                1             2022  \n",
              "2                   50    panas                1             2022  \n",
              "3                   20  mendung                1             2022  \n",
              "4                   30    kabut                1             2022  \n",
              "..                 ...      ...              ...              ...  \n",
              "194                 50    hujan               12             2023  \n",
              "195                250  mendung                1             2024  \n",
              "196                250    angin                2             2024  \n",
              "197                100    badai                2             2024  \n",
              "198                 20    hujan                3             2024  \n",
              "\n",
              "[199 rows x 9 columns]"
            ],
            "text/html": [
              "\n",
              "  <div id=\"df-9a7a28f2-ae55-4ffd-9246-6b1bf9f26a13\" class=\"colab-df-container\">\n",
              "    <div>\n",
              "<style scoped>\n",
              "    .dataframe tbody tr th:only-of-type {\n",
              "        vertical-align: middle;\n",
              "    }\n",
              "\n",
              "    .dataframe tbody tr th {\n",
              "        vertical-align: top;\n",
              "    }\n",
              "\n",
              "    .dataframe thead th {\n",
              "        text-align: right;\n",
              "    }\n",
              "</style>\n",
              "<table border=\"1\" class=\"dataframe\">\n",
              "  <thead>\n",
              "    <tr style=\"text-align: right;\">\n",
              "      <th></th>\n",
              "      <th>waktu_pembelian</th>\n",
              "      <th>jenis_tanaman</th>\n",
              "      <th>harga_satuan</th>\n",
              "      <th>stok</th>\n",
              "      <th>jumlah_terjual</th>\n",
              "      <th>jumlah_pendapatan</th>\n",
              "      <th>cuaca</th>\n",
              "      <th>bulan_pembelian</th>\n",
              "      <th>tahun_pembelian</th>\n",
              "    </tr>\n",
              "  </thead>\n",
              "  <tbody>\n",
              "    <tr>\n",
              "      <th>0</th>\n",
              "      <td>2022-01-03</td>\n",
              "      <td>Kedondong</td>\n",
              "      <td>50</td>\n",
              "      <td>13</td>\n",
              "      <td>2</td>\n",
              "      <td>100</td>\n",
              "      <td>kabut</td>\n",
              "      <td>1</td>\n",
              "      <td>2022</td>\n",
              "    </tr>\n",
              "    <tr>\n",
              "      <th>1</th>\n",
              "      <td>2022-01-04</td>\n",
              "      <td>Rambutan</td>\n",
              "      <td>60</td>\n",
              "      <td>5</td>\n",
              "      <td>1</td>\n",
              "      <td>60</td>\n",
              "      <td>panas</td>\n",
              "      <td>1</td>\n",
              "      <td>2022</td>\n",
              "    </tr>\n",
              "    <tr>\n",
              "      <th>2</th>\n",
              "      <td>2022-01-05</td>\n",
              "      <td>Petei</td>\n",
              "      <td>50</td>\n",
              "      <td>6</td>\n",
              "      <td>1</td>\n",
              "      <td>50</td>\n",
              "      <td>panas</td>\n",
              "      <td>1</td>\n",
              "      <td>2022</td>\n",
              "    </tr>\n",
              "    <tr>\n",
              "      <th>3</th>\n",
              "      <td>2022-01-06</td>\n",
              "      <td>Puring</td>\n",
              "      <td>20</td>\n",
              "      <td>10</td>\n",
              "      <td>1</td>\n",
              "      <td>20</td>\n",
              "      <td>mendung</td>\n",
              "      <td>1</td>\n",
              "      <td>2022</td>\n",
              "    </tr>\n",
              "    <tr>\n",
              "      <th>4</th>\n",
              "      <td>2022-01-07</td>\n",
              "      <td>Kustik</td>\n",
              "      <td>30</td>\n",
              "      <td>8</td>\n",
              "      <td>1</td>\n",
              "      <td>30</td>\n",
              "      <td>kabut</td>\n",
              "      <td>1</td>\n",
              "      <td>2022</td>\n",
              "    </tr>\n",
              "    <tr>\n",
              "      <th>...</th>\n",
              "      <td>...</td>\n",
              "      <td>...</td>\n",
              "      <td>...</td>\n",
              "      <td>...</td>\n",
              "      <td>...</td>\n",
              "      <td>...</td>\n",
              "      <td>...</td>\n",
              "      <td>...</td>\n",
              "      <td>...</td>\n",
              "    </tr>\n",
              "    <tr>\n",
              "      <th>194</th>\n",
              "      <td>2023-12-28</td>\n",
              "      <td>Cemaraloki</td>\n",
              "      <td>50</td>\n",
              "      <td>3</td>\n",
              "      <td>1</td>\n",
              "      <td>50</td>\n",
              "      <td>hujan</td>\n",
              "      <td>12</td>\n",
              "      <td>2023</td>\n",
              "    </tr>\n",
              "    <tr>\n",
              "      <th>195</th>\n",
              "      <td>2024-01-12</td>\n",
              "      <td>Sukun</td>\n",
              "      <td>250</td>\n",
              "      <td>9</td>\n",
              "      <td>1</td>\n",
              "      <td>250</td>\n",
              "      <td>mendung</td>\n",
              "      <td>1</td>\n",
              "      <td>2024</td>\n",
              "    </tr>\n",
              "    <tr>\n",
              "      <th>196</th>\n",
              "      <td>2024-02-01</td>\n",
              "      <td>Sukun</td>\n",
              "      <td>250</td>\n",
              "      <td>8</td>\n",
              "      <td>1</td>\n",
              "      <td>250</td>\n",
              "      <td>angin</td>\n",
              "      <td>2</td>\n",
              "      <td>2024</td>\n",
              "    </tr>\n",
              "    <tr>\n",
              "      <th>197</th>\n",
              "      <td>2024-02-25</td>\n",
              "      <td>Kadu</td>\n",
              "      <td>100</td>\n",
              "      <td>10</td>\n",
              "      <td>1</td>\n",
              "      <td>100</td>\n",
              "      <td>badai</td>\n",
              "      <td>2</td>\n",
              "      <td>2024</td>\n",
              "    </tr>\n",
              "    <tr>\n",
              "      <th>198</th>\n",
              "      <td>2024-03-17</td>\n",
              "      <td>Mawar</td>\n",
              "      <td>20</td>\n",
              "      <td>13</td>\n",
              "      <td>1</td>\n",
              "      <td>20</td>\n",
              "      <td>hujan</td>\n",
              "      <td>3</td>\n",
              "      <td>2024</td>\n",
              "    </tr>\n",
              "  </tbody>\n",
              "</table>\n",
              "<p>199 rows × 9 columns</p>\n",
              "</div>\n",
              "    <div class=\"colab-df-buttons\">\n",
              "\n",
              "  <div class=\"colab-df-container\">\n",
              "    <button class=\"colab-df-convert\" onclick=\"convertToInteractive('df-9a7a28f2-ae55-4ffd-9246-6b1bf9f26a13')\"\n",
              "            title=\"Convert this dataframe to an interactive table.\"\n",
              "            style=\"display:none;\">\n",
              "\n",
              "  <svg xmlns=\"http://www.w3.org/2000/svg\" height=\"24px\" viewBox=\"0 -960 960 960\">\n",
              "    <path d=\"M120-120v-720h720v720H120Zm60-500h600v-160H180v160Zm220 220h160v-160H400v160Zm0 220h160v-160H400v160ZM180-400h160v-160H180v160Zm440 0h160v-160H620v160ZM180-180h160v-160H180v160Zm440 0h160v-160H620v160Z\"/>\n",
              "  </svg>\n",
              "    </button>\n",
              "\n",
              "  <style>\n",
              "    .colab-df-container {\n",
              "      display:flex;\n",
              "      gap: 12px;\n",
              "    }\n",
              "\n",
              "    .colab-df-convert {\n",
              "      background-color: #E8F0FE;\n",
              "      border: none;\n",
              "      border-radius: 50%;\n",
              "      cursor: pointer;\n",
              "      display: none;\n",
              "      fill: #1967D2;\n",
              "      height: 32px;\n",
              "      padding: 0 0 0 0;\n",
              "      width: 32px;\n",
              "    }\n",
              "\n",
              "    .colab-df-convert:hover {\n",
              "      background-color: #E2EBFA;\n",
              "      box-shadow: 0px 1px 2px rgba(60, 64, 67, 0.3), 0px 1px 3px 1px rgba(60, 64, 67, 0.15);\n",
              "      fill: #174EA6;\n",
              "    }\n",
              "\n",
              "    .colab-df-buttons div {\n",
              "      margin-bottom: 4px;\n",
              "    }\n",
              "\n",
              "    [theme=dark] .colab-df-convert {\n",
              "      background-color: #3B4455;\n",
              "      fill: #D2E3FC;\n",
              "    }\n",
              "\n",
              "    [theme=dark] .colab-df-convert:hover {\n",
              "      background-color: #434B5C;\n",
              "      box-shadow: 0px 1px 3px 1px rgba(0, 0, 0, 0.15);\n",
              "      filter: drop-shadow(0px 1px 2px rgba(0, 0, 0, 0.3));\n",
              "      fill: #FFFFFF;\n",
              "    }\n",
              "  </style>\n",
              "\n",
              "    <script>\n",
              "      const buttonEl =\n",
              "        document.querySelector('#df-9a7a28f2-ae55-4ffd-9246-6b1bf9f26a13 button.colab-df-convert');\n",
              "      buttonEl.style.display =\n",
              "        google.colab.kernel.accessAllowed ? 'block' : 'none';\n",
              "\n",
              "      async function convertToInteractive(key) {\n",
              "        const element = document.querySelector('#df-9a7a28f2-ae55-4ffd-9246-6b1bf9f26a13');\n",
              "        const dataTable =\n",
              "          await google.colab.kernel.invokeFunction('convertToInteractive',\n",
              "                                                    [key], {});\n",
              "        if (!dataTable) return;\n",
              "\n",
              "        const docLinkHtml = 'Like what you see? Visit the ' +\n",
              "          '<a target=\"_blank\" href=https://colab.research.google.com/notebooks/data_table.ipynb>data table notebook</a>'\n",
              "          + ' to learn more about interactive tables.';\n",
              "        element.innerHTML = '';\n",
              "        dataTable['output_type'] = 'display_data';\n",
              "        await google.colab.output.renderOutput(dataTable, element);\n",
              "        const docLink = document.createElement('div');\n",
              "        docLink.innerHTML = docLinkHtml;\n",
              "        element.appendChild(docLink);\n",
              "      }\n",
              "    </script>\n",
              "  </div>\n",
              "\n",
              "\n",
              "<div id=\"df-807c17ab-bf6d-40c4-969c-52d799c5c4bb\">\n",
              "  <button class=\"colab-df-quickchart\" onclick=\"quickchart('df-807c17ab-bf6d-40c4-969c-52d799c5c4bb')\"\n",
              "            title=\"Suggest charts\"\n",
              "            style=\"display:none;\">\n",
              "\n",
              "<svg xmlns=\"http://www.w3.org/2000/svg\" height=\"24px\"viewBox=\"0 0 24 24\"\n",
              "     width=\"24px\">\n",
              "    <g>\n",
              "        <path d=\"M19 3H5c-1.1 0-2 .9-2 2v14c0 1.1.9 2 2 2h14c1.1 0 2-.9 2-2V5c0-1.1-.9-2-2-2zM9 17H7v-7h2v7zm4 0h-2V7h2v10zm4 0h-2v-4h2v4z\"/>\n",
              "    </g>\n",
              "</svg>\n",
              "  </button>\n",
              "\n",
              "<style>\n",
              "  .colab-df-quickchart {\n",
              "      --bg-color: #E8F0FE;\n",
              "      --fill-color: #1967D2;\n",
              "      --hover-bg-color: #E2EBFA;\n",
              "      --hover-fill-color: #174EA6;\n",
              "      --disabled-fill-color: #AAA;\n",
              "      --disabled-bg-color: #DDD;\n",
              "  }\n",
              "\n",
              "  [theme=dark] .colab-df-quickchart {\n",
              "      --bg-color: #3B4455;\n",
              "      --fill-color: #D2E3FC;\n",
              "      --hover-bg-color: #434B5C;\n",
              "      --hover-fill-color: #FFFFFF;\n",
              "      --disabled-bg-color: #3B4455;\n",
              "      --disabled-fill-color: #666;\n",
              "  }\n",
              "\n",
              "  .colab-df-quickchart {\n",
              "    background-color: var(--bg-color);\n",
              "    border: none;\n",
              "    border-radius: 50%;\n",
              "    cursor: pointer;\n",
              "    display: none;\n",
              "    fill: var(--fill-color);\n",
              "    height: 32px;\n",
              "    padding: 0;\n",
              "    width: 32px;\n",
              "  }\n",
              "\n",
              "  .colab-df-quickchart:hover {\n",
              "    background-color: var(--hover-bg-color);\n",
              "    box-shadow: 0 1px 2px rgba(60, 64, 67, 0.3), 0 1px 3px 1px rgba(60, 64, 67, 0.15);\n",
              "    fill: var(--button-hover-fill-color);\n",
              "  }\n",
              "\n",
              "  .colab-df-quickchart-complete:disabled,\n",
              "  .colab-df-quickchart-complete:disabled:hover {\n",
              "    background-color: var(--disabled-bg-color);\n",
              "    fill: var(--disabled-fill-color);\n",
              "    box-shadow: none;\n",
              "  }\n",
              "\n",
              "  .colab-df-spinner {\n",
              "    border: 2px solid var(--fill-color);\n",
              "    border-color: transparent;\n",
              "    border-bottom-color: var(--fill-color);\n",
              "    animation:\n",
              "      spin 1s steps(1) infinite;\n",
              "  }\n",
              "\n",
              "  @keyframes spin {\n",
              "    0% {\n",
              "      border-color: transparent;\n",
              "      border-bottom-color: var(--fill-color);\n",
              "      border-left-color: var(--fill-color);\n",
              "    }\n",
              "    20% {\n",
              "      border-color: transparent;\n",
              "      border-left-color: var(--fill-color);\n",
              "      border-top-color: var(--fill-color);\n",
              "    }\n",
              "    30% {\n",
              "      border-color: transparent;\n",
              "      border-left-color: var(--fill-color);\n",
              "      border-top-color: var(--fill-color);\n",
              "      border-right-color: var(--fill-color);\n",
              "    }\n",
              "    40% {\n",
              "      border-color: transparent;\n",
              "      border-right-color: var(--fill-color);\n",
              "      border-top-color: var(--fill-color);\n",
              "    }\n",
              "    60% {\n",
              "      border-color: transparent;\n",
              "      border-right-color: var(--fill-color);\n",
              "    }\n",
              "    80% {\n",
              "      border-color: transparent;\n",
              "      border-right-color: var(--fill-color);\n",
              "      border-bottom-color: var(--fill-color);\n",
              "    }\n",
              "    90% {\n",
              "      border-color: transparent;\n",
              "      border-bottom-color: var(--fill-color);\n",
              "    }\n",
              "  }\n",
              "</style>\n",
              "\n",
              "  <script>\n",
              "    async function quickchart(key) {\n",
              "      const quickchartButtonEl =\n",
              "        document.querySelector('#' + key + ' button');\n",
              "      quickchartButtonEl.disabled = true;  // To prevent multiple clicks.\n",
              "      quickchartButtonEl.classList.add('colab-df-spinner');\n",
              "      try {\n",
              "        const charts = await google.colab.kernel.invokeFunction(\n",
              "            'suggestCharts', [key], {});\n",
              "      } catch (error) {\n",
              "        console.error('Error during call to suggestCharts:', error);\n",
              "      }\n",
              "      quickchartButtonEl.classList.remove('colab-df-spinner');\n",
              "      quickchartButtonEl.classList.add('colab-df-quickchart-complete');\n",
              "    }\n",
              "    (() => {\n",
              "      let quickchartButtonEl =\n",
              "        document.querySelector('#df-807c17ab-bf6d-40c4-969c-52d799c5c4bb button');\n",
              "      quickchartButtonEl.style.display =\n",
              "        google.colab.kernel.accessAllowed ? 'block' : 'none';\n",
              "    })();\n",
              "  </script>\n",
              "</div>\n",
              "    </div>\n",
              "  </div>\n"
            ],
            "application/vnd.google.colaboratory.intrinsic+json": {
              "type": "dataframe",
              "variable_name": "df",
              "summary": "{\n  \"name\": \"df\",\n  \"rows\": 199,\n  \"fields\": [\n    {\n      \"column\": \"waktu_pembelian\",\n      \"properties\": {\n        \"dtype\": \"date\",\n        \"min\": \"2022-01-03 00:00:00\",\n        \"max\": \"2024-03-17 00:00:00\",\n        \"num_unique_values\": 196,\n        \"samples\": [\n          \"2023-06-22 00:00:00\",\n          \"2023-03-22 00:00:00\",\n          \"2022-03-21 00:00:00\"\n        ],\n        \"semantic_type\": \"\",\n        \"description\": \"\"\n      }\n    },\n    {\n      \"column\": \"jenis_tanaman\",\n      \"properties\": {\n        \"dtype\": \"category\",\n        \"num_unique_values\": 33,\n        \"samples\": [\n          \"Pucuk Merah\",\n          \"Cereme\",\n          \"Bidara \"\n        ],\n        \"semantic_type\": \"\",\n        \"description\": \"\"\n      }\n    },\n    {\n      \"column\": \"harga_satuan\",\n      \"properties\": {\n        \"dtype\": \"number\",\n        \"std\": 59,\n        \"min\": 20,\n        \"max\": 250,\n        \"num_unique_values\": 11,\n        \"samples\": [\n          80,\n          50,\n          200\n        ],\n        \"semantic_type\": \"\",\n        \"description\": \"\"\n      }\n    },\n    {\n      \"column\": \"stok\",\n      \"properties\": {\n        \"dtype\": \"number\",\n        \"std\": 4,\n        \"min\": 1,\n        \"max\": 23,\n        \"num_unique_values\": 21,\n        \"samples\": [\n          13,\n          19,\n          23\n        ],\n        \"semantic_type\": \"\",\n        \"description\": \"\"\n      }\n    },\n    {\n      \"column\": \"jumlah_terjual\",\n      \"properties\": {\n        \"dtype\": \"number\",\n        \"std\": 0,\n        \"min\": 1,\n        \"max\": 5,\n        \"num_unique_values\": 5,\n        \"samples\": [\n          1,\n          5,\n          3\n        ],\n        \"semantic_type\": \"\",\n        \"description\": \"\"\n      }\n    },\n    {\n      \"column\": \"jumlah_pendapatan\",\n      \"properties\": {\n        \"dtype\": \"number\",\n        \"std\": 83,\n        \"min\": 20,\n        \"max\": 500,\n        \"num_unique_values\": 18,\n        \"samples\": [\n          100,\n          60,\n          125\n        ],\n        \"semantic_type\": \"\",\n        \"description\": \"\"\n      }\n    },\n    {\n      \"column\": \"cuaca\",\n      \"properties\": {\n        \"dtype\": \"category\",\n        \"num_unique_values\": 7,\n        \"samples\": [\n          \"kabut\",\n          \"panas\",\n          \"badai\"\n        ],\n        \"semantic_type\": \"\",\n        \"description\": \"\"\n      }\n    },\n    {\n      \"column\": \"bulan_pembelian\",\n      \"properties\": {\n        \"dtype\": \"int32\",\n        \"num_unique_values\": 12,\n        \"samples\": [\n          11,\n          10,\n          1\n        ],\n        \"semantic_type\": \"\",\n        \"description\": \"\"\n      }\n    },\n    {\n      \"column\": \"tahun_pembelian\",\n      \"properties\": {\n        \"dtype\": \"int32\",\n        \"num_unique_values\": 3,\n        \"samples\": [\n          2022,\n          2023,\n          2024\n        ],\n        \"semantic_type\": \"\",\n        \"description\": \"\"\n      }\n    }\n  ]\n}"
            }
          },
          "metadata": {},
          "execution_count": 11
        }
      ]
    },
    {
      "cell_type": "markdown",
      "source": [
        "> Kode program diatas memiliki 2 proses yaitu:\n",
        "\n",
        "1. `df['bulan_pembelian'] = df['waktu_pembelian'].dt.month`:\n",
        "Kode ini menambahkan sebuah kolom baru ke DataFrame `df` dengan nama `bulan_pembelian`.\n",
        "Nilai pada kolom `bulan_pembelian` diisi dengan bulan dari setiap entri dalam kolom `waktu_pembelian`.\n",
        "Method `.dt.month` digunakan untuk mengekstrak informasi bulan dari setiap tanggal dalam kolom `waktu_pembelian`.\n",
        "\n",
        "2. `df['tahun_pembelian'] = df['waktu_pembelian'].dt.year`:\n",
        "Kode ini juga menambahkan kolom baru ke DataFrame df dengan nama `tahun_pembelian`.\n",
        "Nilai pada kolom `tahun_pembelian` diisi dengan tahun dari setiap entri dalam kolom `waktu_pembelian`.\n",
        "Method `.dt.year` digunakan untuk mengekstrak informasi tahun dari setiap tanggal dalam kolom `waktu_pembelian`.\n",
        "\n",
        "> Setelah menjalankan kedua kode tersebut, DataFrame `df` akan memiliki dua kolom baru yaitu `bulan_pembelian` dan `tahun_pembelian`."
      ],
      "metadata": {
        "id": "Mxr6PaetYJfr"
      }
    },
    {
      "cell_type": "code",
      "source": [
        "df['jenis_tanaman'].value_counts()"
      ],
      "metadata": {
        "colab": {
          "base_uri": "https://localhost:8080/"
        },
        "id": "HbNR1yw9K-eQ",
        "outputId": "9a6759ea-9464-4f11-827b-fff7deb3005f"
      },
      "execution_count": null,
      "outputs": [
        {
          "output_type": "execute_result",
          "data": {
            "text/plain": [
              "jenis_tanaman\n",
              "Mawar                 14\n",
              "Cemaraloki             9\n",
              "Pucuk Mera             9\n",
              "Rambutan               9\n",
              "Sukun                  9\n",
              "Kadu                   9\n",
              "Cereme                 8\n",
              "Nangka                 8\n",
              "Brokoli                8\n",
              "Kedondong              8\n",
              "Puring                 8\n",
              "Melati                 8\n",
              "Kustik                 8\n",
              "Lengkeng               7\n",
              "Sarwina                7\n",
              "Janda Bolong           7\n",
              "Petei                  7\n",
              "Lidah Mertua           7\n",
              "Bidara                 6\n",
              "Pohon mangga           6\n",
              "Bunga Keladi Tikus     6\n",
              "Mania                  5\n",
              "Pitalum                4\n",
              "Sarikaya Madu          4\n",
              "Palem Kuning           4\n",
              "Carikaya Madu          3\n",
              "Pucuk Merah            3\n",
              "kustik                 2\n",
              "Lidah mertua           2\n",
              "Bidara                 1\n",
              "Mania                  1\n",
              "Carikaya madu          1\n",
              "Bunga keladi tikus     1\n",
              "Name: count, dtype: int64"
            ]
          },
          "metadata": {},
          "execution_count": 12
        }
      ]
    },
    {
      "cell_type": "markdown",
      "source": [
        "> Kode program diatas digunakan untuk menghitung jumlah kemunculan setiap nilai unik dalam kolom `jenis_tanaman` pada DataFrame `df`. Ini berguna untuk melihat distribusi atau frekuensi setiap nilai dalam kolom tersebut.\n",
        "\n",
        "1. `df['jenis_tanaman']`: Kode ini mengambil kolom `jenis_tanaman` dari DataFrame `df`.\n",
        "\n",
        "2. `value_counts()`: Metode ini digunakan untuk menghitung jumlah kemunculan setiap nilai unik dalam kolom `jenis_tanaman`."
      ],
      "metadata": {
        "id": "otmW5Z4yZAc9"
      }
    },
    {
      "cell_type": "code",
      "source": [
        "df['cuaca'].value_counts()"
      ],
      "metadata": {
        "colab": {
          "base_uri": "https://localhost:8080/"
        },
        "id": "x-gQBpkGLm3V",
        "outputId": "ded217bd-d57d-4663-c55d-fd48a8161f49"
      },
      "execution_count": null,
      "outputs": [
        {
          "output_type": "execute_result",
          "data": {
            "text/plain": [
              "cuaca\n",
              "cerah      49\n",
              "panas      37\n",
              "mendung    31\n",
              "hujan      28\n",
              "angin      19\n",
              "badai      18\n",
              "kabut      17\n",
              "Name: count, dtype: int64"
            ]
          },
          "metadata": {},
          "execution_count": 13
        }
      ]
    },
    {
      "cell_type": "markdown",
      "source": [
        "> Kode program diatas sama seperti sebelumnya, hanya saja nilai unik yang diambil berasal dari kolom `cuaca`."
      ],
      "metadata": {
        "id": "GZJ7hXPYZa2E"
      }
    },
    {
      "cell_type": "markdown",
      "source": [
        "### **Visualisasi Univariate**"
      ],
      "metadata": {
        "id": "Gggq-1YNG5WE"
      }
    },
    {
      "cell_type": "markdown",
      "source": [
        "> Analisis univariate adalah metode dalam analisis data yang berfokus pada pengamatan dan penjelasan satu variabel data saja.\n",
        "\n",
        "> Kata `univariat` berasal dari `uni` yang berarti satu dan `variat` yang berarti variabel.\n",
        "\n",
        "> Dalam praktiknya, analisis ini tidak membahas tentang penyebab atau hubungan antar variabel, namun lebih kepada mendeskripsikan dan menemukan pola dalam satu variabel."
      ],
      "metadata": {
        "id": "alzRlOKagx56"
      }
    },
    {
      "cell_type": "markdown",
      "source": [
        "#### **Distribusi Harga Satuan**"
      ],
      "metadata": {
        "id": "Ji9UHn-IOH-C"
      }
    },
    {
      "cell_type": "code",
      "source": [
        "plt.figure(figsize=(10, 5))\n",
        "hist = sns.histplot(data=df, x='harga_satuan', color='darkcyan')\n",
        "\n",
        "for i, v in enumerate(hist.containers[0]):\n",
        "    height = v.get_height()\n",
        "    if height != 0:\n",
        "        plt.text(v.get_x() + v.get_width() / 2, height, f'{height}', ha='center', va='bottom')\n",
        "\n",
        "plt.title('Distribusi Harga Satuan')\n",
        "plt.xlabel('Harga Satuan')\n",
        "plt.ylabel('Frekuensi')\n",
        "plt.show()"
      ],
      "metadata": {
        "colab": {
          "base_uri": "https://localhost:8080/",
          "height": 487
        },
        "id": "Nq_F2HL7CLMg",
        "outputId": "3784e57c-772d-4c75-f5ad-7b5f83c225fe"
      },
      "execution_count": null,
      "outputs": [
        {
          "output_type": "display_data",
          "data": {
            "text/plain": [
              "<Figure size 1000x500 with 1 Axes>"
            ],
            "image/png": "[encoded data removed]"
          },
          "metadata": {}
        }
      ]
    },
    {
      "cell_type": "code",
      "source": [],
      "metadata": {
        "id": "o4qoJP5YjMG3"
      },
      "execution_count": null,
      "outputs": []
    },
    {
      "cell_type": "markdown",
      "source": [
        "> Grafik diatas menunjukkan distribusi harga satuan tanaman pada toko tanaman hias X. Dapat diamati bahwa, distribusi harga-harga tanaman hias pada toko ini tersebar tidak secara merata di sepanjang rentang nilainya. Itu disebabkan oleh besarnya frekuensi tanaman yang memiliki harga satuan dibawah 50 (ribu) yang membuat batang grafik menjadi sangat tinggi dibandingkan harga satuan lainnya.\n",
        "\n",
        "> Namun, hal itu dapat menunjukkan tren dalam harga satuan. **Bisa saja kecenderungan pelanggan untuk membeli tanaman hias dengan kisaran harga dibawah 50 (ribu) tinggi, sehingga toko tanaman hias X lebih condong menjual tanaman-tanaman hias dengan kisaran harga dibawah 50 (ribu).**"
      ],
      "metadata": {
        "id": "XpICDrlYkqWU"
      }
    },
    {
      "cell_type": "markdown",
      "source": [
        "#### **Distribusi Jumlah Penjualan**"
      ],
      "metadata": {
        "id": "Qc_KbyUbdly7"
      }
    },
    {
      "cell_type": "code",
      "source": [
        "plt.figure(figsize=(10, 5))\n",
        "count = sns.countplot(data=df, x='jumlah_terjual', color='lightseagreen')\n",
        "\n",
        "for i, v in enumerate(count.containers[0]):\n",
        "    height = v.get_height()\n",
        "    if height != 0:\n",
        "        plt.text(v.get_x() + v.get_width() / 2, height, f'{height}', ha='center', va='bottom')\n",
        "\n",
        "plt.title('Distribusi Jumlah Penjualan')\n",
        "plt.xlabel('Jumlah Terjual')\n",
        "plt.ylabel('Frekuensi')\n",
        "plt.show()"
      ],
      "metadata": {
        "colab": {
          "base_uri": "https://localhost:8080/",
          "height": 487
        },
        "id": "I2RJqSn4LVaJ",
        "outputId": "d4f6eb9e-05d1-4b5c-d07d-0401ebf6eb15"
      },
      "execution_count": null,
      "outputs": [
        {
          "output_type": "display_data",
          "data": {
            "text/plain": [
              "<Figure size 1000x500 with 1 Axes>"
            ],
            "image/png": "[encoded data removed]"
          },
          "metadata": {}
        }
      ]
    },
    {
      "cell_type": "markdown",
      "source": [
        "> Grafik diatas menunjukkan distribusi jumlah penjualan tanaman pada toko tanaman hias X. Dapat diamati bahwa, frekuensi jumlah penjualan tanaman hias pada toko ini sangat tinggi pada `jumlah terjual = 1`. Hal itu menunjukkan bahwa **lebih dari 50% pelanggan hanya membeli 1 tanaman saja ketika mengunjungi toko ini**. Hal ini dapat menjadi pertimbangan penting bagi pihak toko dalam merencanakan strategi pemasaran dan penjualan di masa depan."
      ],
      "metadata": {
        "id": "LJi2zrtnupwh"
      }
    },
    {
      "cell_type": "markdown",
      "source": [
        "#### **Frekuensi Jenis Tanaman**"
      ],
      "metadata": {
        "id": "VfEBnWdBdtnm"
      }
    },
    {
      "cell_type": "code",
      "source": [
        "plt.figure(figsize=(10, 5))\n",
        "sns.countplot(data=df, y='jenis_tanaman', palette='Set2')\n",
        "plt.title('Frekuensi Jenis Tanaman')\n",
        "plt.xlabel('Frekuensi')\n",
        "plt.ylabel('Jenis Tanaman')\n",
        "plt.show()"
      ],
      "metadata": {
        "colab": {
          "base_uri": "https://localhost:8080/",
          "height": 594
        },
        "id": "G_pWiqeTNAAQ",
        "outputId": "405c1ccc-34ba-4113-e5d8-6d021b28b9a3"
      },
      "execution_count": null,
      "outputs": [
        {
          "output_type": "stream",
          "name": "stderr",
          "text": [
            "<ipython-input-16-66e3ec0af31b>:2: FutureWarning: \n",
            "\n",
            "Passing `palette` without assigning `hue` is deprecated and will be removed in v0.14.0. Assign the `y` variable to `hue` and set `legend=False` for the same effect.\n",
            "\n",
            "  sns.countplot(data=df, y='jenis_tanaman', palette='Set2')\n"
          ]
        },
        {
          "output_type": "display_data",
          "data": {
            "text/plain": [
              "<Figure size 1000x500 with 1 Axes>"
            ],
            "image/png": "[encoded data removed]"
          },
          "metadata": {}
        }
      ]
    },
    {
      "cell_type": "markdown",
      "source": [
        "> Grafik diatas menunjukkan frekuensi masing-masing jenis tanaman yang dijual di toko tanaman hias X. Berdasarkan grafik ini, dapat diamati jenis tanaman mana yang paling sering dijual dan mana yang tidak.\n",
        "\n",
        "> Tanaman `mawar` memiliki frekuensi penjualan paling tinggi sebanyak 14 kali, hampir dua kali lipat dibandingkan tanaman hias lain dibawahnya. Itu berarti `mawar` adalah tanaman paling populer di toko ini selama kurun waktu 2 tahun terakhir. Sedangkan, tanaman `bidara`, `mania`, `carikaya madu`, dan `bunga keladi tikus` memiliki frekuensi yang paling sedikit karena hanya 1 tanaman yang terjual. Ini dapat memberikan wawasan kepada pemilik toko tentang preferensi pelanggan dan produk yang paling diminati."
      ],
      "metadata": {
        "id": "BebgVDv40H3q"
      }
    },
    {
      "cell_type": "markdown",
      "source": [
        "#### **Frekuensi Cuaca**"
      ],
      "metadata": {
        "id": "lckfDM6ydzqO"
      }
    },
    {
      "cell_type": "code",
      "source": [
        "plt.figure(figsize=(10, 5))\n",
        "sns.countplot(data=df, x='cuaca', palette='Set2')\n",
        "plt.title('Frekuensi Cuaca')\n",
        "plt.xlabel('Cuaca')\n",
        "plt.ylabel('Frekuensi')\n",
        "plt.show()"
      ],
      "metadata": {
        "colab": {
          "base_uri": "https://localhost:8080/",
          "height": 594
        },
        "id": "-0Yz5dAHLsYI",
        "outputId": "dad54a67-afc9-4e19-bef0-bbf6d3a30a1e"
      },
      "execution_count": null,
      "outputs": [
        {
          "output_type": "stream",
          "name": "stderr",
          "text": [
            "<ipython-input-17-3ea197f70228>:2: FutureWarning: \n",
            "\n",
            "Passing `palette` without assigning `hue` is deprecated and will be removed in v0.14.0. Assign the `x` variable to `hue` and set `legend=False` for the same effect.\n",
            "\n",
            "  sns.countplot(data=df, x='cuaca', palette='Set2')\n"
          ]
        },
        {
          "output_type": "display_data",
          "data": {
            "text/plain": [
              "<Figure size 1000x500 with 1 Axes>"
            ],
            "image/png": "[encoded data removed]"
          },
          "metadata": {}
        }
      ]
    },
    {
      "cell_type": "markdown",
      "source": [
        "> Grafik diatas menunjukkan frekuensi cuaca selama kurun waktu 2 tahun terakhir (2022-2024) yang tercatat saat terjadi proses transaksi pada toko tanaman hias X. Dapat diamati bahwa, cuaca cerah memiliki frekuensi kemunculan paling tinggi sebanyak hampir 50 kali. Sedangkan, cuaca kabut menjadi yang paling terendah dengan jumlah dibawah 20 kali. Ini bisa berarti **kecenderungan pelanggan untuk membeli tanaman hias adalah saat cuaca cerah**. Informasi ini nantinya dapat digunakan untuk memahami tren yang berkaitan dengan kondisi cuaca."
      ],
      "metadata": {
        "id": "asKVxlY45qYa"
      }
    },
    {
      "cell_type": "markdown",
      "source": [
        "### **Visualisasi Multivariate**"
      ],
      "metadata": {
        "id": "IMw8qnmEaT4U"
      }
    },
    {
      "cell_type": "markdown",
      "source": [
        "> Analisis multivariat berasal dari kata `multi` dan `variate`, dua kata ini dapat diartikan analisis dua atau lebih variabel."
      ],
      "metadata": {
        "id": "G42BswMsj22j"
      }
    },
    {
      "cell_type": "markdown",
      "source": [
        "#### **Hubungan Antara Harga Satuan dan Penjualan**"
      ],
      "metadata": {
        "id": "O_5eOZlWd6N5"
      }
    },
    {
      "cell_type": "code",
      "source": [
        "plt.figure(figsize=(10, 5))\n",
        "sns.scatterplot(data=df, x='harga_satuan', y='jumlah_terjual', color='lightseagreen')\n",
        "plt.title('Hubungan Antara Harga Satuan dan Jumlah Penjualan')\n",
        "plt.xlabel('Harga Satuan')\n",
        "plt.ylabel('Jumlah Terjual')\n",
        "plt.yticks([1, 2, 3, 4, 5])\n",
        "plt.show()"
      ],
      "metadata": {
        "colab": {
          "base_uri": "https://localhost:8080/",
          "height": 487
        },
        "id": "aOlaynSjBdf_",
        "outputId": "c6347a22-e96d-4f14-ee0c-19d9e32b722c"
      },
      "execution_count": null,
      "outputs": [
        {
          "output_type": "display_data",
          "data": {
            "text/plain": [
              "<Figure size 1000x500 with 1 Axes>"
            ],
            "image/png": "[encoded data removed]"
          },
          "metadata": {}
        }
      ]
    },
    {
      "cell_type": "markdown",
      "source": [
        "> Grafik di atas menunjukkan korelasi antara harga satuan dengan jumlah terjual pada toko tanaman hias X. Dapat diamati bahwa scatter plot di atas membentuk kluster pada kisaran harga satuan 0-100 (ribu). Kluster ini menunjukkan bahwa sebagian besar penjualan terjadi di rentang harga tersebut. Secara khusus, terdapat banyak penjualan dengan jumlah terjual antara 1 hingga 3 tanaman pada rentang harga tersebut.\n",
        "\n",
        "> Pada harga satuan sekitar 100 (ribu), titik-titik dalam scatter plot menunjukkan variasi yang lebih besar dalam jumlah penjualan, dengan rentang jumlah terjual dari 1 hingga 5 tanaman. Ini mungkin menunjukkan adanya variasi dalam preferensi pelanggan atau karakteristik produk pada rentang harga tersebut.\n",
        "\n",
        "> Sementara itu, pada harga satuan sekitar 250 (ribu), terlihat bahwa sebagian besar penjualan hanya terdiri dari 1 tanaman saja. **Hal ini menunjukkan bahwa tanaman dengan harga yang lebih tinggi cenderung memiliki jumlah penjualan yang lebih rendah, mungkin dikarenanakan harga menjadi faktor preferensi yang penting bagi sebagian pelanggan sebelum memutuskan untuk membeli.**"
      ],
      "metadata": {
        "id": "K6aPyNBp8u1I"
      }
    },
    {
      "cell_type": "markdown",
      "source": [
        "#### **Hubungan Antara Stok dan Penjualan per Bulan**"
      ],
      "metadata": {
        "id": "ANRdQeIkeE0C"
      }
    },
    {
      "cell_type": "code",
      "source": [
        "agg_bsj = df.groupby('bulan_pembelian')[['stok', 'jumlah_terjual']].mean().reset_index()\n",
        "\n",
        "plt.figure(figsize=(10, 5))\n",
        "sns.barplot(data=agg_bsj, x='bulan_pembelian', y='stok', color='cornflowerblue', label='Rata-rata Stok')\n",
        "sns.barplot(data=agg_bsj, x='bulan_pembelian', y='jumlah_terjual', color='goldenrod', label='Rata-rata Jumlah Terjual')\n",
        "plt.title('Hubungan Antara Stok dan Jumlah Penjualan per Bulan')\n",
        "plt.xlabel('Bulan Pembelian')\n",
        "plt.ylabel('Jumlah')\n",
        "plt.legend()\n",
        "plt.show()"
      ],
      "metadata": {
        "colab": {
          "base_uri": "https://localhost:8080/",
          "height": 487
        },
        "id": "NzIaANreCsGF",
        "outputId": "387cfb1b-7308-48ad-cdb1-f387eb829959"
      },
      "execution_count": null,
      "outputs": [
        {
          "output_type": "display_data",
          "data": {
            "text/plain": [
              "<Figure size 1000x500 with 1 Axes>"
            ],
            "image/png": "[encoded data removed]"
          },
          "metadata": {}
        }
      ]
    },
    {
      "cell_type": "markdown",
      "source": [
        "> Grafik diatas menunjukkan korelasi antara stok dan jumlah terjualnya tanaman pada toko tanaman hias X. Dapat diamati bahwa, setiap bulannya ketersediaan rata-rata stok bervariasi selama 2 tahun terakhir.\n",
        "\n",
        "> Namun, hal itu tidak dibarengi dengan rata-rata jumlah terjual yang seimbang. **Karena pada grafik diatas, rata-rata penjualan per bulan tidak sampai 50% dari rata-rata stok yang ada. Hal ini dapat mengindikasikan tingkat permintaan yang rendah untuk tanaman hias tertentu di toko ini** yang dapat disebabkan oleh berbagai macam faktor seperti kurangnya minat pelanggan, persaingan toko, dan lain sebagainya."
      ],
      "metadata": {
        "id": "P6Z_JqrbGVYl"
      }
    },
    {
      "cell_type": "markdown",
      "source": [
        "#### **Tren Penjualan per Bulan**"
      ],
      "metadata": {
        "id": "nQn_Zfxoekgi"
      }
    },
    {
      "cell_type": "code",
      "source": [
        "agg_bt = df.groupby('bulan_pembelian')['jumlah_terjual'].sum().reset_index()\n",
        "\n",
        "plt.figure(figsize=(10, 5))\n",
        "sns.lineplot(data=agg_bt, x='bulan_pembelian', y='jumlah_terjual', marker='o', color='lightseagreen')\n",
        "plt.title('Tren Penjualan per Bulan')\n",
        "plt.xlabel('Bulan')\n",
        "plt.ylabel('Jumlah Terjual')\n",
        "plt.xticks(range(1, 13), ['Jan', 'Feb', 'Mar', 'Apr', 'Mei', 'Jun', 'Jul', 'Agu', 'Sep', 'Okt', 'Nov', 'Des'])\n",
        "plt.grid(True)\n",
        "plt.show()"
      ],
      "metadata": {
        "colab": {
          "base_uri": "https://localhost:8080/",
          "height": 487
        },
        "id": "P9pUNJJSCXDq",
        "outputId": "3a809d7e-15c8-492d-9a1a-e9ca94b88b09"
      },
      "execution_count": null,
      "outputs": [
        {
          "output_type": "display_data",
          "data": {
            "text/plain": [
              "<Figure size 1000x500 with 1 Axes>"
            ],
            "image/png": "[encoded data removed]"
          },
          "metadata": {}
        }
      ]
    },
    {
      "cell_type": "markdown",
      "source": [
        "> Grafik di atas menunjukkan tren jumlah penjualan tanaman hias setiap bulannya dari bulan Januari sampai Desember selama kurun waktu 2 tahun terakhir. **Tren penjualan mengalami peningkatan dari mulai Januari hingga yang tertinggi terdapat pada bulan Maret dengan lebih dari 30 tanaman hias yang berhasil terjual pada bulan itu**.\n",
        "\n",
        "> Namun, tren penjualan mengalami penurunan pada bulan April dan terus menurun hingga bulan Juni. Setelah itu, terjadi kenaikan dan penurunan penjualan hingga akhirnya meningkat kembali pada bulan September-Oktober.\n",
        "\n",
        "> Setelah itu kembali terjadi **kemerosotan penjualan hingga ke titik paling rendah di bulan November**. Dan akhirnya kembali meningkat di bulan Desember menjelang akhir tahun.\n",
        "\n",
        "> Insight ini memberikan pemahaman yang lebih mendalam tentang fluktuasi dalam penjualan tanaman hias dari bulan ke bulan, memberikan wawasan tentang faktor-faktor yang mungkin memengaruhi pola penjualan dan memungkinkan pemilik toko untuk membuat strategi yang lebih baik dalam manajemen stok, perencanaan penjualan, dan promosi."
      ],
      "metadata": {
        "id": "Xr6xXeQ_PmEO"
      }
    },
    {
      "cell_type": "markdown",
      "source": [
        "#### **Tren Penjualan per Tahun**"
      ],
      "metadata": {
        "id": "is9Jq4x9etYw"
      }
    },
    {
      "cell_type": "code",
      "source": [
        "agg_tt = df.groupby('tahun_pembelian')['jumlah_terjual'].sum().reset_index()\n",
        "\n",
        "plt.figure(figsize=(10, 5))\n",
        "sns.lineplot(data=agg_tt, x='tahun_pembelian', y='jumlah_terjual', marker='o', color='lightseagreen')\n",
        "plt.title('Tren Penjualan per Tahun')\n",
        "plt.xlabel('Tahun')\n",
        "plt.ylabel('Jumlah Terjual')\n",
        "plt.xticks([2022, 2023, 2024])\n",
        "plt.show()"
      ],
      "metadata": {
        "colab": {
          "base_uri": "https://localhost:8080/",
          "height": 487
        },
        "id": "CGT7sIYp5NLh",
        "outputId": "585fea60-ec51-4bf6-efea-d1dae5d12cf8"
      },
      "execution_count": null,
      "outputs": [
        {
          "output_type": "display_data",
          "data": {
            "text/plain": [
              "<Figure size 1000x500 with 1 Axes>"
            ],
            "image/png": "[encoded data removed]"
          },
          "metadata": {}
        }
      ]
    },
    {
      "cell_type": "markdown",
      "source": [
        "> Grafik di atas menunjukkan tren jumlah penjualan tanaman hias setiap tahunnya dari tahun 2022 hingga 2024. **Tren penjualan mengalami peningkatan dari tahun 2022 ke tahun 2023 walaupun tidak signifikan**. Tercatat jumlah penjualan pada tahun 2022 sebanyak 124 tanaman, sedangkan pada tahun 2023 sebanyak 134 tanaman hias.\n",
        "\n",
        "> Setelah itu, grafik menunjukkan penurunan pada tahun 2024. Namun, penting untuk dicatat bahwa penurunan ini mungkin tidak mencerminkan kenyataan secara keseluruhan, karena data penjualan tahun 2024 pada dataset ini hanya tersedia hingga bulan Maret. Karena itu, penurunan ini mungkin hanya merupakan representasi awal dari tren penjualan tahun tersebut.\n",
        "\n",
        "> Dengan memahami tren penjualan tahunan, pemilik toko dapat membuat keputusan yang lebih baik terkait dengan perencanaan, manajemen, dan upaya pemasaran untuk meningkatkan kinerja dalam jangka panjang."
      ],
      "metadata": {
        "id": "sndNfU7FSV_J"
      }
    },
    {
      "cell_type": "markdown",
      "source": [
        "#### **Pendapatan per Tahun**"
      ],
      "metadata": {
        "id": "a8scMZA9fOxi"
      }
    },
    {
      "cell_type": "code",
      "source": [
        "agg_tp = df.groupby('tahun_pembelian')['jumlah_pendapatan'].sum().reset_index()\n",
        "\n",
        "plt.figure(figsize=(10, 5))\n",
        "sns.lineplot(data=agg_tp, x='tahun_pembelian', y='jumlah_pendapatan', marker='o', color='lightseagreen')\n",
        "plt.title('Jumlah Pendapatan per Tahun')\n",
        "plt.xlabel('Tahun')\n",
        "plt.ylabel('Jumlah Pendapatan')\n",
        "plt.xticks([2022, 2023, 2024])\n",
        "plt.show()"
      ],
      "metadata": {
        "colab": {
          "base_uri": "https://localhost:8080/",
          "height": 487
        },
        "id": "_5v5mCY696pi",
        "outputId": "e4af5548-4e85-4d1d-8a0c-6a5b9a02414d"
      },
      "execution_count": null,
      "outputs": [
        {
          "output_type": "display_data",
          "data": {
            "text/plain": [
              "<Figure size 1000x500 with 1 Axes>"
            ],
            "image/png": "[encoded data removed]"
          },
          "metadata": {}
        }
      ]
    },
    {
      "cell_type": "markdown",
      "source": [
        "> Grafik diatas menunjukkan jumlah pendapatan toko per tahunnya dari mulai 2022 hingga 2024. Dapat diamati bahwa, jumlah pendapatan toko pada tahun 2022 mencapai 8000 (8 juta).\n",
        "\n",
        "> Meskipun tren penjualan mengalami kenaikan, pendapatan toko justru mengalami penurunan pada tahun 2023. Hal ini menarik karena biasanya peningkatan penjualan diharapkan akan berdampak positif pada pendapatan. Penurunan pendapatan ini mungkin disebabkan oleh frekuensi pembelian yang banyak namun dengan rata-rata harga yang murah. **Hal ini mengindikasikan bahwa meskipun jumlah barang yang terjual meningkat, namun harga jual rata-rata yang rendah menyebabkan pendapatan keseluruhan menurun.**"
      ],
      "metadata": {
        "id": "ogWKuJjOVBoB"
      }
    },
    {
      "cell_type": "markdown",
      "source": [
        "#### **Hubungan Antara Jenis Tanaman dan Cuaca Terhadap Penjualan**"
      ],
      "metadata": {
        "id": "FfnG63dUfpdw"
      }
    },
    {
      "cell_type": "code",
      "source": [
        "agg_tct = df.groupby(['jenis_tanaman', 'cuaca'])['jumlah_terjual'].sum().reset_index()\n",
        "\n",
        "plt.figure(figsize=(12, 5))\n",
        "sns.scatterplot(data=agg_tct, x='cuaca', y='jenis_tanaman', hue='jumlah_terjual', size='jumlah_terjual', sizes=(50, 100))\n",
        "plt.title('Hubungan Antara Jenis Tanaman dan Cuaca Terhadap Penjualan')\n",
        "plt.xlabel('Cuaca')\n",
        "plt.ylabel('Jenis Tanaman')\n",
        "plt.legend(title='Jumlah Terjual')\n",
        "plt.grid(True)\n",
        "plt.show()"
      ],
      "metadata": {
        "colab": {
          "base_uri": "https://localhost:8080/",
          "height": 487
        },
        "id": "4YWWb4HB9tVy",
        "outputId": "8a1fb4e3-81f9-42c1-da12-5497704899fe"
      },
      "execution_count": null,
      "outputs": [
        {
          "output_type": "display_data",
          "data": {
            "text/plain": [
              "<Figure size 1200x500 with 1 Axes>"
            ],
            "image/png": "[encoded data removed]"
          },
          "metadata": {}
        }
      ]
    },
    {
      "cell_type": "markdown",
      "source": [
        "> Grafik diatas menunjukkan korelasi antara jenis tanaman dan cuaca terhadap penjualan tanaman hias. Beberapa insight yang dapat diambil berdasarkan grafik diatas adalah sebagai berikut:\n",
        "1. Setiap titik pada grafik mewakili kombinasi jenis tanaman dan kondisi cuaca tertentu, dengan ukuran titik yang menunjukkan jumlah terjual tanaman tersebut dan warna titik yang menunjukkan seberapa besar jumlah terjualnya.\n",
        "2. Warna titik pada grafik memperlihatkan seberapa besar pengaruh cuaca terhadap penjualan jenis tanaman tertentu. Dapat dilihat bahwa tanaman hias yang paling banyak terjual berdasarkan faktor tambahan (cuaca) adalah:\n",
        "* `Badai: Tanaman Kadu`\n",
        "* `Hujan: Tanaman Mawar`\n",
        "* `Kabut: Tanaman Kadu`\n",
        "* `Mendung: Tanaman Pucuk Mera`\n",
        "* `Panas: Tanaman Kadu`\n",
        "* `Angin: Tanaman Kadu`\n",
        "* `Cerah: Tanaman Cereme`\n",
        "\n",
        "> Dengan memahami hubungan antara jenis tanaman, cuaca, dan penjualan, toko tanaman hias dapat menyesuaikan stok dan strategi pemasaran mereka untuk memaksimalkan penjualan di berbagai kondisi cuaca."
      ],
      "metadata": {
        "id": "r2bGgUIRaZA_"
      }
    },
    {
      "cell_type": "markdown",
      "source": [
        "#### **Hubungan Antara Cuaca dan Jumlah Pendapatan**"
      ],
      "metadata": {
        "id": "VQQ6rQ0af4Df"
      }
    },
    {
      "cell_type": "code",
      "source": [
        "agg_cp = df.groupby('cuaca')['jumlah_pendapatan'].sum().reset_index()\n",
        "agg_cp = agg_cp.sort_values(by='jumlah_pendapatan')\n",
        "\n",
        "plt.figure(figsize=(10, 5))\n",
        "bar = sns.barplot(data=agg_cp, x='cuaca', y='jumlah_pendapatan', palette='Set2')\n",
        "\n",
        "for v in bar.patches:\n",
        "    height = v.get_height()\n",
        "    plt.text(v.get_x() + v.get_width() / 2, height, f'{height}', ha='center', va='bottom')\n",
        "\n",
        "plt.title('Hubungan Antara Cuaca dan Jumlah Pendapatan')\n",
        "plt.xlabel('Cuaca')\n",
        "plt.ylabel('Jumlah Pendapatan')\n",
        "plt.show()"
      ],
      "metadata": {
        "colab": {
          "base_uri": "https://localhost:8080/",
          "height": 594
        },
        "id": "Iz1YEfKRBKGa",
        "outputId": "fa02d29c-bfeb-4752-9a29-88b41667fb7b"
      },
      "execution_count": null,
      "outputs": [
        {
          "output_type": "stream",
          "name": "stderr",
          "text": [
            "<ipython-input-24-67f894210def>:5: FutureWarning: \n",
            "\n",
            "Passing `palette` without assigning `hue` is deprecated and will be removed in v0.14.0. Assign the `x` variable to `hue` and set `legend=False` for the same effect.\n",
            "\n",
            "  bar = sns.barplot(data=agg_cp, x='cuaca', y='jumlah_pendapatan', palette='Set2')\n"
          ]
        },
        {
          "output_type": "display_data",
          "data": {
            "text/plain": [
              "<Figure size 1000x500 with 1 Axes>"
            ],
            "image/png": "[encoded data removed]"
          },
          "metadata": {}
        }
      ]
    },
    {
      "cell_type": "markdown",
      "source": [
        "> Grafik di atas menunjukkan korelasi antara kondisi cuaca dan jumlah pendapatan toko selama dua tahun terakhir. Dapat diamati bahwa, jumlah pendapatan tertinggi terjadi saat cuaca cerah, mendekati angka 3395 (hampir 3,5 juta). Diikuti oleh cuaca panas dengan pendapatan sekitar 2900 (2,9 juta), dan cuaca mendung sebanyak 2485 (hampir 2,5 juta).\n",
        "\n",
        "> **Hal ini dapat mengindikasikan bahwa cuaca cerah memiliki dampak positif yang signifikan terhadap pendapatan toko, diikuti oleh cuaca panas dan mendung**. Informasi ini dapat dijadikan sebagai insight toko agar fokus pada produk yang lebih diminati selama cuaca cerah untuk meningkatkan pendapatan secara keseluruhan."
      ],
      "metadata": {
        "id": "b2NqjVJUefVy"
      }
    }
  ]
}